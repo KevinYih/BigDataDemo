{
  "nbformat": 4,
  "nbformat_minor": 0,
  "metadata": {
    "colab": {
      "provenance": [],
      "include_colab_link": true
    },
    "kernelspec": {
      "name": "python3",
      "display_name": "Python 3"
    },
    "gpuClass": "standard"
  },
  "cells": [
    {
      "cell_type": "markdown",
      "metadata": {
        "id": "view-in-github",
        "colab_type": "text"
      },
      "source": [
        "<a href=\"https://colab.research.google.com/github/KevinYih/BigDataDemo/blob/main/Copy_of_SVD_Netflix_movie_ratings_by_Kevin.ipynb\" target=\"_parent\"><img src=\"https://colab.research.google.com/assets/colab-badge.svg\" alt=\"Open In Colab\"/></a>"
      ]
    },
    {
      "cell_type": "markdown",
      "source": [
        "#SVD - Netflix movie ratings\n",
        "\n",
        "Adapted from: https://colab.research.google.com/github/ashishdasari148/Recommender-Systems-using-Collaborative-Filtering/blob/master/Netflix.ipynb#scrollTo=qX7Nk4tUGZND"
      ],
      "metadata": {
        "id": "dnpBV4_YEdg9"
      }
    },
    {
      "cell_type": "code",
      "source": [
        "!echo '{\"username\":\"kevinyih\",\"key\":\"9a18a73669b892b2ac58ebb67dc96545\"}' > /root/.kaggle/kaggle.json\n",
        "!chmod 600 /root/.kaggle/kaggle.json\n",
        "!pip install kaggle\n",
        "!kaggle datasets download -d netflix-inc/netflix-prize-data"
      ],
      "metadata": {
        "id": "Q2y_PZRw9Zzk",
        "colab": {
          "base_uri": "https://localhost:8080/"
        },
        "collapsed": true,
        "outputId": "8b60fada-f2db-4353-f902-a7cb27a5e289"
      },
      "execution_count": 1,
      "outputs": [
        {
          "output_type": "stream",
          "name": "stdout",
          "text": [
            "/bin/bash: line 1: /root/.kaggle/kaggle.json: No such file or directory\n",
            "chmod: cannot access '/root/.kaggle/kaggle.json': No such file or directory\n",
            "Requirement already satisfied: kaggle in /usr/local/lib/python3.10/dist-packages (1.6.14)\n",
            "Requirement already satisfied: six>=1.10 in /usr/local/lib/python3.10/dist-packages (from kaggle) (1.16.0)\n",
            "Requirement already satisfied: certifi>=2023.7.22 in /usr/local/lib/python3.10/dist-packages (from kaggle) (2024.6.2)\n",
            "Requirement already satisfied: python-dateutil in /usr/local/lib/python3.10/dist-packages (from kaggle) (2.8.2)\n",
            "Requirement already satisfied: requests in /usr/local/lib/python3.10/dist-packages (from kaggle) (2.31.0)\n",
            "Requirement already satisfied: tqdm in /usr/local/lib/python3.10/dist-packages (from kaggle) (4.66.4)\n",
            "Requirement already satisfied: python-slugify in /usr/local/lib/python3.10/dist-packages (from kaggle) (8.0.4)\n",
            "Requirement already satisfied: urllib3 in /usr/local/lib/python3.10/dist-packages (from kaggle) (2.0.7)\n",
            "Requirement already satisfied: bleach in /usr/local/lib/python3.10/dist-packages (from kaggle) (6.1.0)\n",
            "Requirement already satisfied: webencodings in /usr/local/lib/python3.10/dist-packages (from bleach->kaggle) (0.5.1)\n",
            "Requirement already satisfied: text-unidecode>=1.3 in /usr/local/lib/python3.10/dist-packages (from python-slugify->kaggle) (1.3)\n",
            "Requirement already satisfied: charset-normalizer<4,>=2 in /usr/local/lib/python3.10/dist-packages (from requests->kaggle) (3.3.2)\n",
            "Requirement already satisfied: idna<4,>=2.5 in /usr/local/lib/python3.10/dist-packages (from requests->kaggle) (3.7)\n",
            "Dataset URL: https://www.kaggle.com/datasets/netflix-inc/netflix-prize-data\n",
            "License(s): other\n",
            "Downloading netflix-prize-data.zip to /content\n",
            " 99% 677M/683M [00:06<00:00, 122MB/s]\n",
            "100% 683M/683M [00:06<00:00, 109MB/s]\n"
          ]
        }
      ]
    },
    {
      "cell_type": "code",
      "metadata": {
        "id": "qX7Nk4tUGZND"
      },
      "source": [
        "import os\n",
        "import zipfile\n",
        "with zipfile.ZipFile('netflix-prize-data.zip', 'r') as zip_ref:\n",
        "    zip_ref.extractall('data')"
      ],
      "execution_count": 2,
      "outputs": []
    },
    {
      "cell_type": "code",
      "metadata": {
        "id": "MrvhLTwMGm26"
      },
      "source": [
        "import pandas as pd\n",
        "\n",
        "import re\n",
        "import os\n",
        "import time\n",
        "import matplotlib.pyplot as plt\n",
        "import numpy as np\n",
        "dir_name = 'data'"
      ],
      "execution_count": 3,
      "outputs": []
    },
    {
      "cell_type": "code",
      "metadata": {
        "id": "DPPatowpML76",
        "colab": {
          "base_uri": "https://localhost:8080/"
        },
        "collapsed": true,
        "outputId": "3a7bbd5c-0628-4e7e-a6d8-9cb007635e7b"
      },
      "source": [
        "# Converting the txt files into csv files\n",
        "files = ['combined_data_1.txt','combined_data_2.txt','combined_data_3.txt','combined_data_4.txt']\n",
        "for j in files:\n",
        "    file1 = open(os.path.join(dir_name, j),\"r+\")\n",
        "    print(j + \" opened...\")\n",
        "    file2 = open(os.path.join(dir_name, j + '.csv'),\"a\")\n",
        "    for i in file1.readlines():\n",
        "        temp = re.match(\"(\\d*)[:]\", i)\n",
        "        if(temp):\n",
        "            movienumber = temp.group(1)\n",
        "        else:\n",
        "            file2.write(str(movienumber)+\",\"+i)\n",
        "    file1.close()\n",
        "    file2.close()\n",
        "    print(j + \" closed...\")"
      ],
      "execution_count": 4,
      "outputs": [
        {
          "output_type": "stream",
          "name": "stdout",
          "text": [
            "combined_data_1.txt opened...\n",
            "combined_data_1.txt closed...\n",
            "combined_data_2.txt opened...\n",
            "combined_data_2.txt closed...\n",
            "combined_data_3.txt opened...\n",
            "combined_data_3.txt closed...\n",
            "combined_data_4.txt opened...\n",
            "combined_data_4.txt closed...\n"
          ]
        }
      ]
    },
    {
      "cell_type": "code",
      "metadata": {
        "id": "iC9yBe1SNcF4",
        "colab": {
          "base_uri": "https://localhost:8080/",
          "height": 423
        },
        "collapsed": true,
        "outputId": "c500c7b1-e87c-4477-a498-443218bd8a9f"
      },
      "source": [
        "movie_titles = pd.read_csv(os.path.join(dir_name, 'movie_titles.csv'), encoding = 'ISO-8859-1', header = None, names=['Movie', 'Year of Release', 'Title'], usecols=[0, 1, 2])\n",
        "movie_titles"
      ],
      "execution_count": 5,
      "outputs": [
        {
          "output_type": "execute_result",
          "data": {
            "text/plain": [
              "       Movie  Year of Release  \\\n",
              "0          1           2003.0   \n",
              "1          2           2004.0   \n",
              "2          3           1997.0   \n",
              "3          4           1994.0   \n",
              "4          5           2004.0   \n",
              "...      ...              ...   \n",
              "17765  17766           2002.0   \n",
              "17766  17767           2004.0   \n",
              "17767  17768           2000.0   \n",
              "17768  17769           2003.0   \n",
              "17769  17770           2003.0   \n",
              "\n",
              "                                                   Title  \n",
              "0                                        Dinosaur Planet  \n",
              "1                             Isle of Man TT 2004 Review  \n",
              "2                                              Character  \n",
              "3                           Paula Abdul's Get Up & Dance  \n",
              "4                               The Rise and Fall of ECW  \n",
              "...                                                  ...  \n",
              "17765  Where the Wild Things Are and Other Maurice Se...  \n",
              "17766                  Fidel Castro: American Experience  \n",
              "17767                                              Epoch  \n",
              "17768                                        The Company  \n",
              "17769                                       Alien Hunter  \n",
              "\n",
              "[17770 rows x 3 columns]"
            ],
            "text/html": [
              "\n",
              "  <div id=\"df-223b5a20-f9e2-4423-944c-d1e22d1d2cfa\" class=\"colab-df-container\">\n",
              "    <div>\n",
              "<style scoped>\n",
              "    .dataframe tbody tr th:only-of-type {\n",
              "        vertical-align: middle;\n",
              "    }\n",
              "\n",
              "    .dataframe tbody tr th {\n",
              "        vertical-align: top;\n",
              "    }\n",
              "\n",
              "    .dataframe thead th {\n",
              "        text-align: right;\n",
              "    }\n",
              "</style>\n",
              "<table border=\"1\" class=\"dataframe\">\n",
              "  <thead>\n",
              "    <tr style=\"text-align: right;\">\n",
              "      <th></th>\n",
              "      <th>Movie</th>\n",
              "      <th>Year of Release</th>\n",
              "      <th>Title</th>\n",
              "    </tr>\n",
              "  </thead>\n",
              "  <tbody>\n",
              "    <tr>\n",
              "      <th>0</th>\n",
              "      <td>1</td>\n",
              "      <td>2003.0</td>\n",
              "      <td>Dinosaur Planet</td>\n",
              "    </tr>\n",
              "    <tr>\n",
              "      <th>1</th>\n",
              "      <td>2</td>\n",
              "      <td>2004.0</td>\n",
              "      <td>Isle of Man TT 2004 Review</td>\n",
              "    </tr>\n",
              "    <tr>\n",
              "      <th>2</th>\n",
              "      <td>3</td>\n",
              "      <td>1997.0</td>\n",
              "      <td>Character</td>\n",
              "    </tr>\n",
              "    <tr>\n",
              "      <th>3</th>\n",
              "      <td>4</td>\n",
              "      <td>1994.0</td>\n",
              "      <td>Paula Abdul's Get Up &amp; Dance</td>\n",
              "    </tr>\n",
              "    <tr>\n",
              "      <th>4</th>\n",
              "      <td>5</td>\n",
              "      <td>2004.0</td>\n",
              "      <td>The Rise and Fall of ECW</td>\n",
              "    </tr>\n",
              "    <tr>\n",
              "      <th>...</th>\n",
              "      <td>...</td>\n",
              "      <td>...</td>\n",
              "      <td>...</td>\n",
              "    </tr>\n",
              "    <tr>\n",
              "      <th>17765</th>\n",
              "      <td>17766</td>\n",
              "      <td>2002.0</td>\n",
              "      <td>Where the Wild Things Are and Other Maurice Se...</td>\n",
              "    </tr>\n",
              "    <tr>\n",
              "      <th>17766</th>\n",
              "      <td>17767</td>\n",
              "      <td>2004.0</td>\n",
              "      <td>Fidel Castro: American Experience</td>\n",
              "    </tr>\n",
              "    <tr>\n",
              "      <th>17767</th>\n",
              "      <td>17768</td>\n",
              "      <td>2000.0</td>\n",
              "      <td>Epoch</td>\n",
              "    </tr>\n",
              "    <tr>\n",
              "      <th>17768</th>\n",
              "      <td>17769</td>\n",
              "      <td>2003.0</td>\n",
              "      <td>The Company</td>\n",
              "    </tr>\n",
              "    <tr>\n",
              "      <th>17769</th>\n",
              "      <td>17770</td>\n",
              "      <td>2003.0</td>\n",
              "      <td>Alien Hunter</td>\n",
              "    </tr>\n",
              "  </tbody>\n",
              "</table>\n",
              "<p>17770 rows × 3 columns</p>\n",
              "</div>\n",
              "    <div class=\"colab-df-buttons\">\n",
              "\n",
              "  <div class=\"colab-df-container\">\n",
              "    <button class=\"colab-df-convert\" onclick=\"convertToInteractive('df-223b5a20-f9e2-4423-944c-d1e22d1d2cfa')\"\n",
              "            title=\"Convert this dataframe to an interactive table.\"\n",
              "            style=\"display:none;\">\n",
              "\n",
              "  <svg xmlns=\"http://www.w3.org/2000/svg\" height=\"24px\" viewBox=\"0 -960 960 960\">\n",
              "    <path d=\"M120-120v-720h720v720H120Zm60-500h600v-160H180v160Zm220 220h160v-160H400v160Zm0 220h160v-160H400v160ZM180-400h160v-160H180v160Zm440 0h160v-160H620v160ZM180-180h160v-160H180v160Zm440 0h160v-160H620v160Z\"/>\n",
              "  </svg>\n",
              "    </button>\n",
              "\n",
              "  <style>\n",
              "    .colab-df-container {\n",
              "      display:flex;\n",
              "      gap: 12px;\n",
              "    }\n",
              "\n",
              "    .colab-df-convert {\n",
              "      background-color: #E8F0FE;\n",
              "      border: none;\n",
              "      border-radius: 50%;\n",
              "      cursor: pointer;\n",
              "      display: none;\n",
              "      fill: #1967D2;\n",
              "      height: 32px;\n",
              "      padding: 0 0 0 0;\n",
              "      width: 32px;\n",
              "    }\n",
              "\n",
              "    .colab-df-convert:hover {\n",
              "      background-color: #E2EBFA;\n",
              "      box-shadow: 0px 1px 2px rgba(60, 64, 67, 0.3), 0px 1px 3px 1px rgba(60, 64, 67, 0.15);\n",
              "      fill: #174EA6;\n",
              "    }\n",
              "\n",
              "    .colab-df-buttons div {\n",
              "      margin-bottom: 4px;\n",
              "    }\n",
              "\n",
              "    [theme=dark] .colab-df-convert {\n",
              "      background-color: #3B4455;\n",
              "      fill: #D2E3FC;\n",
              "    }\n",
              "\n",
              "    [theme=dark] .colab-df-convert:hover {\n",
              "      background-color: #434B5C;\n",
              "      box-shadow: 0px 1px 3px 1px rgba(0, 0, 0, 0.15);\n",
              "      filter: drop-shadow(0px 1px 2px rgba(0, 0, 0, 0.3));\n",
              "      fill: #FFFFFF;\n",
              "    }\n",
              "  </style>\n",
              "\n",
              "    <script>\n",
              "      const buttonEl =\n",
              "        document.querySelector('#df-223b5a20-f9e2-4423-944c-d1e22d1d2cfa button.colab-df-convert');\n",
              "      buttonEl.style.display =\n",
              "        google.colab.kernel.accessAllowed ? 'block' : 'none';\n",
              "\n",
              "      async function convertToInteractive(key) {\n",
              "        const element = document.querySelector('#df-223b5a20-f9e2-4423-944c-d1e22d1d2cfa');\n",
              "        const dataTable =\n",
              "          await google.colab.kernel.invokeFunction('convertToInteractive',\n",
              "                                                    [key], {});\n",
              "        if (!dataTable) return;\n",
              "\n",
              "        const docLinkHtml = 'Like what you see? Visit the ' +\n",
              "          '<a target=\"_blank\" href=https://colab.research.google.com/notebooks/data_table.ipynb>data table notebook</a>'\n",
              "          + ' to learn more about interactive tables.';\n",
              "        element.innerHTML = '';\n",
              "        dataTable['output_type'] = 'display_data';\n",
              "        await google.colab.output.renderOutput(dataTable, element);\n",
              "        const docLink = document.createElement('div');\n",
              "        docLink.innerHTML = docLinkHtml;\n",
              "        element.appendChild(docLink);\n",
              "      }\n",
              "    </script>\n",
              "  </div>\n",
              "\n",
              "\n",
              "<div id=\"df-903e0dd6-a746-47d4-bc1d-1d04d9171074\">\n",
              "  <button class=\"colab-df-quickchart\" onclick=\"quickchart('df-903e0dd6-a746-47d4-bc1d-1d04d9171074')\"\n",
              "            title=\"Suggest charts\"\n",
              "            style=\"display:none;\">\n",
              "\n",
              "<svg xmlns=\"http://www.w3.org/2000/svg\" height=\"24px\"viewBox=\"0 0 24 24\"\n",
              "     width=\"24px\">\n",
              "    <g>\n",
              "        <path d=\"M19 3H5c-1.1 0-2 .9-2 2v14c0 1.1.9 2 2 2h14c1.1 0 2-.9 2-2V5c0-1.1-.9-2-2-2zM9 17H7v-7h2v7zm4 0h-2V7h2v10zm4 0h-2v-4h2v4z\"/>\n",
              "    </g>\n",
              "</svg>\n",
              "  </button>\n",
              "\n",
              "<style>\n",
              "  .colab-df-quickchart {\n",
              "      --bg-color: #E8F0FE;\n",
              "      --fill-color: #1967D2;\n",
              "      --hover-bg-color: #E2EBFA;\n",
              "      --hover-fill-color: #174EA6;\n",
              "      --disabled-fill-color: #AAA;\n",
              "      --disabled-bg-color: #DDD;\n",
              "  }\n",
              "\n",
              "  [theme=dark] .colab-df-quickchart {\n",
              "      --bg-color: #3B4455;\n",
              "      --fill-color: #D2E3FC;\n",
              "      --hover-bg-color: #434B5C;\n",
              "      --hover-fill-color: #FFFFFF;\n",
              "      --disabled-bg-color: #3B4455;\n",
              "      --disabled-fill-color: #666;\n",
              "  }\n",
              "\n",
              "  .colab-df-quickchart {\n",
              "    background-color: var(--bg-color);\n",
              "    border: none;\n",
              "    border-radius: 50%;\n",
              "    cursor: pointer;\n",
              "    display: none;\n",
              "    fill: var(--fill-color);\n",
              "    height: 32px;\n",
              "    padding: 0;\n",
              "    width: 32px;\n",
              "  }\n",
              "\n",
              "  .colab-df-quickchart:hover {\n",
              "    background-color: var(--hover-bg-color);\n",
              "    box-shadow: 0 1px 2px rgba(60, 64, 67, 0.3), 0 1px 3px 1px rgba(60, 64, 67, 0.15);\n",
              "    fill: var(--button-hover-fill-color);\n",
              "  }\n",
              "\n",
              "  .colab-df-quickchart-complete:disabled,\n",
              "  .colab-df-quickchart-complete:disabled:hover {\n",
              "    background-color: var(--disabled-bg-color);\n",
              "    fill: var(--disabled-fill-color);\n",
              "    box-shadow: none;\n",
              "  }\n",
              "\n",
              "  .colab-df-spinner {\n",
              "    border: 2px solid var(--fill-color);\n",
              "    border-color: transparent;\n",
              "    border-bottom-color: var(--fill-color);\n",
              "    animation:\n",
              "      spin 1s steps(1) infinite;\n",
              "  }\n",
              "\n",
              "  @keyframes spin {\n",
              "    0% {\n",
              "      border-color: transparent;\n",
              "      border-bottom-color: var(--fill-color);\n",
              "      border-left-color: var(--fill-color);\n",
              "    }\n",
              "    20% {\n",
              "      border-color: transparent;\n",
              "      border-left-color: var(--fill-color);\n",
              "      border-top-color: var(--fill-color);\n",
              "    }\n",
              "    30% {\n",
              "      border-color: transparent;\n",
              "      border-left-color: var(--fill-color);\n",
              "      border-top-color: var(--fill-color);\n",
              "      border-right-color: var(--fill-color);\n",
              "    }\n",
              "    40% {\n",
              "      border-color: transparent;\n",
              "      border-right-color: var(--fill-color);\n",
              "      border-top-color: var(--fill-color);\n",
              "    }\n",
              "    60% {\n",
              "      border-color: transparent;\n",
              "      border-right-color: var(--fill-color);\n",
              "    }\n",
              "    80% {\n",
              "      border-color: transparent;\n",
              "      border-right-color: var(--fill-color);\n",
              "      border-bottom-color: var(--fill-color);\n",
              "    }\n",
              "    90% {\n",
              "      border-color: transparent;\n",
              "      border-bottom-color: var(--fill-color);\n",
              "    }\n",
              "  }\n",
              "</style>\n",
              "\n",
              "  <script>\n",
              "    async function quickchart(key) {\n",
              "      const quickchartButtonEl =\n",
              "        document.querySelector('#' + key + ' button');\n",
              "      quickchartButtonEl.disabled = true;  // To prevent multiple clicks.\n",
              "      quickchartButtonEl.classList.add('colab-df-spinner');\n",
              "      try {\n",
              "        const charts = await google.colab.kernel.invokeFunction(\n",
              "            'suggestCharts', [key], {});\n",
              "      } catch (error) {\n",
              "        console.error('Error during call to suggestCharts:', error);\n",
              "      }\n",
              "      quickchartButtonEl.classList.remove('colab-df-spinner');\n",
              "      quickchartButtonEl.classList.add('colab-df-quickchart-complete');\n",
              "    }\n",
              "    (() => {\n",
              "      let quickchartButtonEl =\n",
              "        document.querySelector('#df-903e0dd6-a746-47d4-bc1d-1d04d9171074 button');\n",
              "      quickchartButtonEl.style.display =\n",
              "        google.colab.kernel.accessAllowed ? 'block' : 'none';\n",
              "    })();\n",
              "  </script>\n",
              "</div>\n",
              "\n",
              "  <div id=\"id_c5200152-2bb3-42b2-a136-efa466a4b1ff\">\n",
              "    <style>\n",
              "      .colab-df-generate {\n",
              "        background-color: #E8F0FE;\n",
              "        border: none;\n",
              "        border-radius: 50%;\n",
              "        cursor: pointer;\n",
              "        display: none;\n",
              "        fill: #1967D2;\n",
              "        height: 32px;\n",
              "        padding: 0 0 0 0;\n",
              "        width: 32px;\n",
              "      }\n",
              "\n",
              "      .colab-df-generate:hover {\n",
              "        background-color: #E2EBFA;\n",
              "        box-shadow: 0px 1px 2px rgba(60, 64, 67, 0.3), 0px 1px 3px 1px rgba(60, 64, 67, 0.15);\n",
              "        fill: #174EA6;\n",
              "      }\n",
              "\n",
              "      [theme=dark] .colab-df-generate {\n",
              "        background-color: #3B4455;\n",
              "        fill: #D2E3FC;\n",
              "      }\n",
              "\n",
              "      [theme=dark] .colab-df-generate:hover {\n",
              "        background-color: #434B5C;\n",
              "        box-shadow: 0px 1px 3px 1px rgba(0, 0, 0, 0.15);\n",
              "        filter: drop-shadow(0px 1px 2px rgba(0, 0, 0, 0.3));\n",
              "        fill: #FFFFFF;\n",
              "      }\n",
              "    </style>\n",
              "    <button class=\"colab-df-generate\" onclick=\"generateWithVariable('movie_titles')\"\n",
              "            title=\"Generate code using this dataframe.\"\n",
              "            style=\"display:none;\">\n",
              "\n",
              "  <svg xmlns=\"http://www.w3.org/2000/svg\" height=\"24px\"viewBox=\"0 0 24 24\"\n",
              "       width=\"24px\">\n",
              "    <path d=\"M7,19H8.4L18.45,9,17,7.55,7,17.6ZM5,21V16.75L18.45,3.32a2,2,0,0,1,2.83,0l1.4,1.43a1.91,1.91,0,0,1,.58,1.4,1.91,1.91,0,0,1-.58,1.4L9.25,21ZM18.45,9,17,7.55Zm-12,3A5.31,5.31,0,0,0,4.9,8.1,5.31,5.31,0,0,0,1,6.5,5.31,5.31,0,0,0,4.9,4.9,5.31,5.31,0,0,0,6.5,1,5.31,5.31,0,0,0,8.1,4.9,5.31,5.31,0,0,0,12,6.5,5.46,5.46,0,0,0,6.5,12Z\"/>\n",
              "  </svg>\n",
              "    </button>\n",
              "    <script>\n",
              "      (() => {\n",
              "      const buttonEl =\n",
              "        document.querySelector('#id_c5200152-2bb3-42b2-a136-efa466a4b1ff button.colab-df-generate');\n",
              "      buttonEl.style.display =\n",
              "        google.colab.kernel.accessAllowed ? 'block' : 'none';\n",
              "\n",
              "      buttonEl.onclick = () => {\n",
              "        google.colab.notebook.generateWithVariable('movie_titles');\n",
              "      }\n",
              "      })();\n",
              "    </script>\n",
              "  </div>\n",
              "\n",
              "    </div>\n",
              "  </div>\n"
            ],
            "application/vnd.google.colaboratory.intrinsic+json": {
              "type": "dataframe",
              "variable_name": "movie_titles",
              "summary": "{\n  \"name\": \"movie_titles\",\n  \"rows\": 17770,\n  \"fields\": [\n    {\n      \"column\": \"Movie\",\n      \"properties\": {\n        \"dtype\": \"number\",\n        \"std\": 5129,\n        \"min\": 1,\n        \"max\": 17770,\n        \"num_unique_values\": 17770,\n        \"samples\": [\n          1087,\n          12404,\n          10831\n        ],\n        \"semantic_type\": \"\",\n        \"description\": \"\"\n      }\n    },\n    {\n      \"column\": \"Year of Release\",\n      \"properties\": {\n        \"dtype\": \"number\",\n        \"std\": 16.50789095276264,\n        \"min\": 1896.0,\n        \"max\": 2005.0,\n        \"num_unique_values\": 94,\n        \"samples\": [\n          1978.0,\n          1995.0,\n          1948.0\n        ],\n        \"semantic_type\": \"\",\n        \"description\": \"\"\n      }\n    },\n    {\n      \"column\": \"Title\",\n      \"properties\": {\n        \"dtype\": \"string\",\n        \"num_unique_values\": 17297,\n        \"samples\": [\n          \"The Pretender: Season 2\",\n          \"Lean on Me\",\n          \"Auntie Mame\"\n        ],\n        \"semantic_type\": \"\",\n        \"description\": \"\"\n      }\n    }\n  ]\n}"
            }
          },
          "metadata": {},
          "execution_count": 5
        }
      ]
    },
    {
      "cell_type": "code",
      "metadata": {
        "id": "iEPCVPA11wUV",
        "colab": {
          "base_uri": "https://localhost:8080/"
        },
        "outputId": "0ecc75d3-b232-43fe-a9c7-e6712bdd9103"
      },
      "source": [
        "## appending all the csv files of rating data into a single dataframe\n",
        "dfs = []\n",
        "for i in ['combined_data_1.txt.csv','combined_data_2.txt.csv','combined_data_3.txt.csv','combined_data_4.txt.csv']:\n",
        "    df_ = pd.read_csv(os.path.join(dir_name, i), header=None, names=['Movie', 'User', 'Rating', 'Date'], usecols=[0, 1, 2, 3])\n",
        "    df_ = df_[['Movie','User','Rating']]\n",
        "    dfs.append(df_)\n",
        "df_all = pd.concat(dfs, ignore_index=True)\n",
        "\n",
        "print(df_all.head(5))"
      ],
      "execution_count": 6,
      "outputs": [
        {
          "output_type": "stream",
          "name": "stdout",
          "text": [
            "   Movie     User  Rating\n",
            "0      1  1488844       3\n",
            "1      1   822109       5\n",
            "2      1   885013       4\n",
            "3      1    30878       4\n",
            "4      1   823519       3\n"
          ]
        }
      ]
    },
    {
      "cell_type": "code",
      "source": [
        "print(\"number of ratings:\", len(df_all))"
      ],
      "metadata": {
        "id": "rvaJ1x8ckycf",
        "colab": {
          "base_uri": "https://localhost:8080/"
        },
        "outputId": "275c29af-17bb-41b6-a4b0-9b3154d4f1fa"
      },
      "execution_count": 7,
      "outputs": [
        {
          "output_type": "stream",
          "name": "stdout",
          "text": [
            "number of ratings: 100480507\n"
          ]
        }
      ]
    },
    {
      "cell_type": "code",
      "source": [
        "# search for your favorite movie\n",
        "\n",
        "indices = movie_titles.Title.str.contains('dinosaur', flags=re.IGNORECASE)\n",
        "movie_titles[indices]\n",
        "dinosaur_movie_ids = set(movie_titles[indices].Movie)\n",
        "dinosaur_movie_ids\n",
        "\n",
        "# 14691    The Matrix\n",
        "# 3925     The Matrix: Reloaded\n",
        "# 16767    The Matrix: Revisited\n",
        "# 468      The Matrix: Revolutions\n",
        "# 397      A Night in Casablanca\n",
        "# 10661    Tokyo Story\n",
        "# 963      A Streetcar Named Desire\n",
        "# 6099     Apocalypse Now\n",
        "# 4253    Kind Hearts and Coronets\n",
        "# 2412     Harry Potter and the Prisoner of Azkaban: Bonu...\n",
        "# 11443    Harry Potter and the Chamber of Secrets\n",
        "\n"
      ],
      "metadata": {
        "id": "xk9eRHw0Bruq",
        "colab": {
          "base_uri": "https://localhost:8080/"
        },
        "outputId": "890889ac-88f3-4950-b046-47ec77a866e9",
        "collapsed": true
      },
      "execution_count": 26,
      "outputs": [
        {
          "output_type": "execute_result",
          "data": {
            "text/plain": [
              "{1, 651, 694, 1173, 1883, 4100, 5302, 8842, 13586, 13891, 15648}"
            ]
          },
          "metadata": {},
          "execution_count": 26
        }
      ]
    },
    {
      "cell_type": "code",
      "source": [
        "# choosing random movies\n",
        "random_movie_ids = set(df_all.sample(frac=.0000001).Movie.unique())\n",
        "print(random_movie_ids)\n",
        "\n",
        "# or choosing your favorite\n",
        "favorites_movie_ids = set({1, 651, 694, 1173, 1883, 4100, 5302, 8842, 13586, 13891, 15648})\n",
        "print(favorites_movie_ids)"
      ],
      "metadata": {
        "id": "prgCLbBiFft8",
        "colab": {
          "base_uri": "https://localhost:8080/"
        },
        "outputId": "0acf365b-1b34-4d23-b57a-5d62c3e4b91b"
      },
      "execution_count": 28,
      "outputs": [
        {
          "output_type": "stream",
          "name": "stdout",
          "text": [
            "{5345, 2913, 12355, 9188, 11397, 12593, 6642, 10162, 11165, 10078}\n",
            "{15648, 1, 13891, 4100, 8842, 651, 13586, 1173, 694, 5302, 1883}\n"
          ]
        }
      ]
    },
    {
      "cell_type": "code",
      "source": [
        "df_all[df_all.Movie == 17339 ]"
      ],
      "metadata": {
        "id": "UegUvG2OFsEk",
        "colab": {
          "base_uri": "https://localhost:8080/",
          "height": 423
        },
        "collapsed": true,
        "outputId": "d253fe3c-5a82-41af-ecae-15b6242f6e4d"
      },
      "execution_count": 29,
      "outputs": [
        {
          "output_type": "execute_result",
          "data": {
            "text/plain": [
              "          Movie     User  Rating\n",
              "98172243  17339  1734805       3\n",
              "98172244  17339   364518       4\n",
              "98172245  17339  1392773       3\n",
              "98172246  17339   716091       4\n",
              "98172247  17339  2059652       4\n",
              "...         ...      ...     ...\n",
              "98243197  17339   702455       3\n",
              "98243198  17339  1536433       3\n",
              "98243199  17339  1704768       3\n",
              "98243200  17339  2486011       4\n",
              "98243201  17339   109387       3\n",
              "\n",
              "[70959 rows x 3 columns]"
            ],
            "text/html": [
              "\n",
              "  <div id=\"df-6b12b6c2-9d2a-4c17-a2f3-967d6bd9ce50\" class=\"colab-df-container\">\n",
              "    <div>\n",
              "<style scoped>\n",
              "    .dataframe tbody tr th:only-of-type {\n",
              "        vertical-align: middle;\n",
              "    }\n",
              "\n",
              "    .dataframe tbody tr th {\n",
              "        vertical-align: top;\n",
              "    }\n",
              "\n",
              "    .dataframe thead th {\n",
              "        text-align: right;\n",
              "    }\n",
              "</style>\n",
              "<table border=\"1\" class=\"dataframe\">\n",
              "  <thead>\n",
              "    <tr style=\"text-align: right;\">\n",
              "      <th></th>\n",
              "      <th>Movie</th>\n",
              "      <th>User</th>\n",
              "      <th>Rating</th>\n",
              "    </tr>\n",
              "  </thead>\n",
              "  <tbody>\n",
              "    <tr>\n",
              "      <th>98172243</th>\n",
              "      <td>17339</td>\n",
              "      <td>1734805</td>\n",
              "      <td>3</td>\n",
              "    </tr>\n",
              "    <tr>\n",
              "      <th>98172244</th>\n",
              "      <td>17339</td>\n",
              "      <td>364518</td>\n",
              "      <td>4</td>\n",
              "    </tr>\n",
              "    <tr>\n",
              "      <th>98172245</th>\n",
              "      <td>17339</td>\n",
              "      <td>1392773</td>\n",
              "      <td>3</td>\n",
              "    </tr>\n",
              "    <tr>\n",
              "      <th>98172246</th>\n",
              "      <td>17339</td>\n",
              "      <td>716091</td>\n",
              "      <td>4</td>\n",
              "    </tr>\n",
              "    <tr>\n",
              "      <th>98172247</th>\n",
              "      <td>17339</td>\n",
              "      <td>2059652</td>\n",
              "      <td>4</td>\n",
              "    </tr>\n",
              "    <tr>\n",
              "      <th>...</th>\n",
              "      <td>...</td>\n",
              "      <td>...</td>\n",
              "      <td>...</td>\n",
              "    </tr>\n",
              "    <tr>\n",
              "      <th>98243197</th>\n",
              "      <td>17339</td>\n",
              "      <td>702455</td>\n",
              "      <td>3</td>\n",
              "    </tr>\n",
              "    <tr>\n",
              "      <th>98243198</th>\n",
              "      <td>17339</td>\n",
              "      <td>1536433</td>\n",
              "      <td>3</td>\n",
              "    </tr>\n",
              "    <tr>\n",
              "      <th>98243199</th>\n",
              "      <td>17339</td>\n",
              "      <td>1704768</td>\n",
              "      <td>3</td>\n",
              "    </tr>\n",
              "    <tr>\n",
              "      <th>98243200</th>\n",
              "      <td>17339</td>\n",
              "      <td>2486011</td>\n",
              "      <td>4</td>\n",
              "    </tr>\n",
              "    <tr>\n",
              "      <th>98243201</th>\n",
              "      <td>17339</td>\n",
              "      <td>109387</td>\n",
              "      <td>3</td>\n",
              "    </tr>\n",
              "  </tbody>\n",
              "</table>\n",
              "<p>70959 rows × 3 columns</p>\n",
              "</div>\n",
              "    <div class=\"colab-df-buttons\">\n",
              "\n",
              "  <div class=\"colab-df-container\">\n",
              "    <button class=\"colab-df-convert\" onclick=\"convertToInteractive('df-6b12b6c2-9d2a-4c17-a2f3-967d6bd9ce50')\"\n",
              "            title=\"Convert this dataframe to an interactive table.\"\n",
              "            style=\"display:none;\">\n",
              "\n",
              "  <svg xmlns=\"http://www.w3.org/2000/svg\" height=\"24px\" viewBox=\"0 -960 960 960\">\n",
              "    <path d=\"M120-120v-720h720v720H120Zm60-500h600v-160H180v160Zm220 220h160v-160H400v160Zm0 220h160v-160H400v160ZM180-400h160v-160H180v160Zm440 0h160v-160H620v160ZM180-180h160v-160H180v160Zm440 0h160v-160H620v160Z\"/>\n",
              "  </svg>\n",
              "    </button>\n",
              "\n",
              "  <style>\n",
              "    .colab-df-container {\n",
              "      display:flex;\n",
              "      gap: 12px;\n",
              "    }\n",
              "\n",
              "    .colab-df-convert {\n",
              "      background-color: #E8F0FE;\n",
              "      border: none;\n",
              "      border-radius: 50%;\n",
              "      cursor: pointer;\n",
              "      display: none;\n",
              "      fill: #1967D2;\n",
              "      height: 32px;\n",
              "      padding: 0 0 0 0;\n",
              "      width: 32px;\n",
              "    }\n",
              "\n",
              "    .colab-df-convert:hover {\n",
              "      background-color: #E2EBFA;\n",
              "      box-shadow: 0px 1px 2px rgba(60, 64, 67, 0.3), 0px 1px 3px 1px rgba(60, 64, 67, 0.15);\n",
              "      fill: #174EA6;\n",
              "    }\n",
              "\n",
              "    .colab-df-buttons div {\n",
              "      margin-bottom: 4px;\n",
              "    }\n",
              "\n",
              "    [theme=dark] .colab-df-convert {\n",
              "      background-color: #3B4455;\n",
              "      fill: #D2E3FC;\n",
              "    }\n",
              "\n",
              "    [theme=dark] .colab-df-convert:hover {\n",
              "      background-color: #434B5C;\n",
              "      box-shadow: 0px 1px 3px 1px rgba(0, 0, 0, 0.15);\n",
              "      filter: drop-shadow(0px 1px 2px rgba(0, 0, 0, 0.3));\n",
              "      fill: #FFFFFF;\n",
              "    }\n",
              "  </style>\n",
              "\n",
              "    <script>\n",
              "      const buttonEl =\n",
              "        document.querySelector('#df-6b12b6c2-9d2a-4c17-a2f3-967d6bd9ce50 button.colab-df-convert');\n",
              "      buttonEl.style.display =\n",
              "        google.colab.kernel.accessAllowed ? 'block' : 'none';\n",
              "\n",
              "      async function convertToInteractive(key) {\n",
              "        const element = document.querySelector('#df-6b12b6c2-9d2a-4c17-a2f3-967d6bd9ce50');\n",
              "        const dataTable =\n",
              "          await google.colab.kernel.invokeFunction('convertToInteractive',\n",
              "                                                    [key], {});\n",
              "        if (!dataTable) return;\n",
              "\n",
              "        const docLinkHtml = 'Like what you see? Visit the ' +\n",
              "          '<a target=\"_blank\" href=https://colab.research.google.com/notebooks/data_table.ipynb>data table notebook</a>'\n",
              "          + ' to learn more about interactive tables.';\n",
              "        element.innerHTML = '';\n",
              "        dataTable['output_type'] = 'display_data';\n",
              "        await google.colab.output.renderOutput(dataTable, element);\n",
              "        const docLink = document.createElement('div');\n",
              "        docLink.innerHTML = docLinkHtml;\n",
              "        element.appendChild(docLink);\n",
              "      }\n",
              "    </script>\n",
              "  </div>\n",
              "\n",
              "\n",
              "<div id=\"df-2c745d4b-0712-404d-8fbd-4b045bc3a62b\">\n",
              "  <button class=\"colab-df-quickchart\" onclick=\"quickchart('df-2c745d4b-0712-404d-8fbd-4b045bc3a62b')\"\n",
              "            title=\"Suggest charts\"\n",
              "            style=\"display:none;\">\n",
              "\n",
              "<svg xmlns=\"http://www.w3.org/2000/svg\" height=\"24px\"viewBox=\"0 0 24 24\"\n",
              "     width=\"24px\">\n",
              "    <g>\n",
              "        <path d=\"M19 3H5c-1.1 0-2 .9-2 2v14c0 1.1.9 2 2 2h14c1.1 0 2-.9 2-2V5c0-1.1-.9-2-2-2zM9 17H7v-7h2v7zm4 0h-2V7h2v10zm4 0h-2v-4h2v4z\"/>\n",
              "    </g>\n",
              "</svg>\n",
              "  </button>\n",
              "\n",
              "<style>\n",
              "  .colab-df-quickchart {\n",
              "      --bg-color: #E8F0FE;\n",
              "      --fill-color: #1967D2;\n",
              "      --hover-bg-color: #E2EBFA;\n",
              "      --hover-fill-color: #174EA6;\n",
              "      --disabled-fill-color: #AAA;\n",
              "      --disabled-bg-color: #DDD;\n",
              "  }\n",
              "\n",
              "  [theme=dark] .colab-df-quickchart {\n",
              "      --bg-color: #3B4455;\n",
              "      --fill-color: #D2E3FC;\n",
              "      --hover-bg-color: #434B5C;\n",
              "      --hover-fill-color: #FFFFFF;\n",
              "      --disabled-bg-color: #3B4455;\n",
              "      --disabled-fill-color: #666;\n",
              "  }\n",
              "\n",
              "  .colab-df-quickchart {\n",
              "    background-color: var(--bg-color);\n",
              "    border: none;\n",
              "    border-radius: 50%;\n",
              "    cursor: pointer;\n",
              "    display: none;\n",
              "    fill: var(--fill-color);\n",
              "    height: 32px;\n",
              "    padding: 0;\n",
              "    width: 32px;\n",
              "  }\n",
              "\n",
              "  .colab-df-quickchart:hover {\n",
              "    background-color: var(--hover-bg-color);\n",
              "    box-shadow: 0 1px 2px rgba(60, 64, 67, 0.3), 0 1px 3px 1px rgba(60, 64, 67, 0.15);\n",
              "    fill: var(--button-hover-fill-color);\n",
              "  }\n",
              "\n",
              "  .colab-df-quickchart-complete:disabled,\n",
              "  .colab-df-quickchart-complete:disabled:hover {\n",
              "    background-color: var(--disabled-bg-color);\n",
              "    fill: var(--disabled-fill-color);\n",
              "    box-shadow: none;\n",
              "  }\n",
              "\n",
              "  .colab-df-spinner {\n",
              "    border: 2px solid var(--fill-color);\n",
              "    border-color: transparent;\n",
              "    border-bottom-color: var(--fill-color);\n",
              "    animation:\n",
              "      spin 1s steps(1) infinite;\n",
              "  }\n",
              "\n",
              "  @keyframes spin {\n",
              "    0% {\n",
              "      border-color: transparent;\n",
              "      border-bottom-color: var(--fill-color);\n",
              "      border-left-color: var(--fill-color);\n",
              "    }\n",
              "    20% {\n",
              "      border-color: transparent;\n",
              "      border-left-color: var(--fill-color);\n",
              "      border-top-color: var(--fill-color);\n",
              "    }\n",
              "    30% {\n",
              "      border-color: transparent;\n",
              "      border-left-color: var(--fill-color);\n",
              "      border-top-color: var(--fill-color);\n",
              "      border-right-color: var(--fill-color);\n",
              "    }\n",
              "    40% {\n",
              "      border-color: transparent;\n",
              "      border-right-color: var(--fill-color);\n",
              "      border-top-color: var(--fill-color);\n",
              "    }\n",
              "    60% {\n",
              "      border-color: transparent;\n",
              "      border-right-color: var(--fill-color);\n",
              "    }\n",
              "    80% {\n",
              "      border-color: transparent;\n",
              "      border-right-color: var(--fill-color);\n",
              "      border-bottom-color: var(--fill-color);\n",
              "    }\n",
              "    90% {\n",
              "      border-color: transparent;\n",
              "      border-bottom-color: var(--fill-color);\n",
              "    }\n",
              "  }\n",
              "</style>\n",
              "\n",
              "  <script>\n",
              "    async function quickchart(key) {\n",
              "      const quickchartButtonEl =\n",
              "        document.querySelector('#' + key + ' button');\n",
              "      quickchartButtonEl.disabled = true;  // To prevent multiple clicks.\n",
              "      quickchartButtonEl.classList.add('colab-df-spinner');\n",
              "      try {\n",
              "        const charts = await google.colab.kernel.invokeFunction(\n",
              "            'suggestCharts', [key], {});\n",
              "      } catch (error) {\n",
              "        console.error('Error during call to suggestCharts:', error);\n",
              "      }\n",
              "      quickchartButtonEl.classList.remove('colab-df-spinner');\n",
              "      quickchartButtonEl.classList.add('colab-df-quickchart-complete');\n",
              "    }\n",
              "    (() => {\n",
              "      let quickchartButtonEl =\n",
              "        document.querySelector('#df-2c745d4b-0712-404d-8fbd-4b045bc3a62b button');\n",
              "      quickchartButtonEl.style.display =\n",
              "        google.colab.kernel.accessAllowed ? 'block' : 'none';\n",
              "    })();\n",
              "  </script>\n",
              "</div>\n",
              "\n",
              "    </div>\n",
              "  </div>\n"
            ],
            "application/vnd.google.colaboratory.intrinsic+json": {
              "type": "dataframe",
              "summary": "{\n  \"name\": \"df_all[df_all\",\n  \"rows\": 70959,\n  \"fields\": [\n    {\n      \"column\": \"Movie\",\n      \"properties\": {\n        \"dtype\": \"number\",\n        \"std\": 0,\n        \"min\": 17339,\n        \"max\": 17339,\n        \"num_unique_values\": 1,\n        \"samples\": [\n          17339\n        ],\n        \"semantic_type\": \"\",\n        \"description\": \"\"\n      }\n    },\n    {\n      \"column\": \"User\",\n      \"properties\": {\n        \"dtype\": \"number\",\n        \"std\": 765039,\n        \"min\": 6,\n        \"max\": 2649375,\n        \"num_unique_values\": 70959,\n        \"samples\": [\n          977017\n        ],\n        \"semantic_type\": \"\",\n        \"description\": \"\"\n      }\n    },\n    {\n      \"column\": \"Rating\",\n      \"properties\": {\n        \"dtype\": \"number\",\n        \"std\": 0,\n        \"min\": 1,\n        \"max\": 5,\n        \"num_unique_values\": 5,\n        \"samples\": [\n          4\n        ],\n        \"semantic_type\": \"\",\n        \"description\": \"\"\n      }\n    }\n  ]\n}"
            }
          },
          "metadata": {},
          "execution_count": 29
        }
      ]
    },
    {
      "cell_type": "code",
      "metadata": {
        "id": "yEEFq58H2mmw"
      },
      "source": [
        "# saving the merged file to drive for further use.\n",
        "\n",
        "movie_ids = random_movie_ids.union(favorites_movie_ids)\n",
        "\n",
        "df_all.to_csv(path_or_buf=os.path.join(dir_name, 'data.txt.csv'),index=False)"
      ],
      "execution_count": 35,
      "outputs": []
    },
    {
      "cell_type": "code",
      "metadata": {
        "id": "xR9lat9N3Nnv"
      },
      "source": [
        "# loading the saved csv into dataframe\n",
        "df_all = pd.read_csv(os.path.join(dir_name, 'data.txt.csv'))"
      ],
      "execution_count": 16,
      "outputs": []
    },
    {
      "cell_type": "code",
      "source": [
        "print(\"number of ratings:\", len(df_all))"
      ],
      "metadata": {
        "id": "_jQe0_HvlIkv",
        "colab": {
          "base_uri": "https://localhost:8080/"
        },
        "outputId": "381479d0-186d-4633-aae6-3c338e074877"
      },
      "execution_count": 36,
      "outputs": [
        {
          "output_type": "stream",
          "name": "stdout",
          "text": [
            "number of ratings: 100480507\n"
          ]
        }
      ]
    },
    {
      "cell_type": "code",
      "source": [
        "df_movie_ids = df_all[df_all.Movie.isin(movie_ids)]\n",
        "print(\"Unique movie ids in the dataframe:\", (df_movie_ids.Movie.unique()))\n",
        "print(\"Number of unique user ids:\", len(df_movie_ids.User.unique()))"
      ],
      "metadata": {
        "id": "n_iFgK5oFyl8",
        "colab": {
          "base_uri": "https://localhost:8080/"
        },
        "outputId": "7617a229-3181-46c9-b08d-12fb15d657a9"
      },
      "execution_count": 37,
      "outputs": [
        {
          "output_type": "stream",
          "name": "stdout",
          "text": [
            "Unique movie ids in the dataframe: [    1   651   694  1173  1883  2913  4100  5302  5345  6642  8842  9188\n",
            " 10078 10162 11165 11397 12355 12593 13586 13891 15648]\n",
            "Number of unique user ids: 241936\n"
          ]
        }
      ]
    },
    {
      "cell_type": "code",
      "source": [
        "df_ = df_movie_ids.sample(frac=0.001)\n",
        "len(df_)"
      ],
      "metadata": {
        "id": "aNYQbsQSRo2p",
        "colab": {
          "base_uri": "https://localhost:8080/"
        },
        "outputId": "c9a2f4ff-aba6-42d3-e7d4-915cc455a31c"
      },
      "execution_count": 38,
      "outputs": [
        {
          "output_type": "execute_result",
          "data": {
            "text/plain": [
              "518"
            ]
          },
          "metadata": {},
          "execution_count": 38
        }
      ]
    },
    {
      "cell_type": "code",
      "source": [
        "# create a dataframe that only contains rating for a subset of users and\n",
        "# a subset of movies\n",
        "user_ids = set(df_.User.unique())\n",
        "df_small = df_all[(df_all.User.isin(user_ids) & df_all.Movie.isin(movie_ids))]\n",
        "print(\"Unique movie ids in the dataframe:\", (df_small.Movie.unique()))\n",
        "print(\"Number of unique user ids:\", len(df_small.User.unique()))\n",
        "print(\"Number of ratings:\", len(df_small))"
      ],
      "metadata": {
        "id": "Sd_OWrKZR0L6",
        "colab": {
          "base_uri": "https://localhost:8080/"
        },
        "outputId": "2d632c2e-3d4e-4eeb-e693-aa8bae32e767"
      },
      "execution_count": 39,
      "outputs": [
        {
          "output_type": "stream",
          "name": "stdout",
          "text": [
            "Unique movie ids in the dataframe: [    1   651   694  1173  1883  2913  4100  5302  5345  6642  8842  9188\n",
            " 10078 10162 11165 11397 12355 12593 13586 13891 15648]\n",
            "Number of unique user ids: 517\n",
            "Number of ratings: 1605\n"
          ]
        }
      ]
    },
    {
      "cell_type": "code",
      "source": [
        "itom = list(sorted(movie_ids))\n",
        "mtoi = {m: i for i, m in enumerate(itom)}\n",
        "itou = list(sorted(user_ids))\n",
        "utoi = {u: i for i, u in enumerate(itou)}"
      ],
      "metadata": {
        "id": "SfMvmK0uSxtM"
      },
      "execution_count": 40,
      "outputs": []
    },
    {
      "cell_type": "code",
      "source": [
        "user_movie_rating = np.zeros((len(itou), len(itom)))\n",
        "\n",
        "for index, row in df_small.iterrows():\n",
        "  movie_id = row.Movie\n",
        "  movie_index = mtoi[movie_id]\n",
        "\n",
        "  user_id = row.User\n",
        "  user_index = utoi[user_id]\n",
        "\n",
        "  user_movie_rating[user_index, movie_index] = row.Rating"
      ],
      "metadata": {
        "id": "ryaho15KYYAn"
      },
      "execution_count": 41,
      "outputs": []
    },
    {
      "cell_type": "code",
      "source": [
        "user_movie_rating.shape"
      ],
      "metadata": {
        "id": "p5jvxgf6PH6D",
        "colab": {
          "base_uri": "https://localhost:8080/"
        },
        "outputId": "bd27a028-ba0d-4b3a-fc2c-710b56aa65da"
      },
      "execution_count": 42,
      "outputs": [
        {
          "output_type": "execute_result",
          "data": {
            "text/plain": [
              "(517, 21)"
            ]
          },
          "metadata": {},
          "execution_count": 42
        }
      ]
    },
    {
      "cell_type": "code",
      "source": [
        "# more efficient way of building a user-movie rating matrix\n",
        "um = df_small.pivot_table(index='User', columns='Movie', values='Rating').values\n",
        "um.shape"
      ],
      "metadata": {
        "id": "x2gscCIYpjct",
        "colab": {
          "base_uri": "https://localhost:8080/"
        },
        "outputId": "69067f6f-ce76-41cc-8760-d6a83a2e84f1"
      },
      "execution_count": 43,
      "outputs": [
        {
          "output_type": "execute_result",
          "data": {
            "text/plain": [
              "(517, 21)"
            ]
          },
          "metadata": {},
          "execution_count": 43
        }
      ]
    },
    {
      "cell_type": "code",
      "source": [
        "user_movie_rating[:10,]"
      ],
      "metadata": {
        "id": "UUTHiqCtZc4F",
        "colab": {
          "base_uri": "https://localhost:8080/"
        },
        "outputId": "0c466f5c-b30d-45d0-b5ce-ba9629f35267"
      },
      "execution_count": 44,
      "outputs": [
        {
          "output_type": "execute_result",
          "data": {
            "text/plain": [
              "array([[0., 0., 0., 0., 0., 3., 0., 0., 3., 0., 0., 3., 0., 0., 0., 0.,\n",
              "        0., 0., 0., 0., 0.],\n",
              "       [0., 0., 0., 0., 0., 4., 0., 0., 3., 0., 0., 4., 3., 0., 0., 0.,\n",
              "        3., 0., 0., 0., 0.],\n",
              "       [0., 0., 0., 0., 0., 0., 0., 0., 4., 0., 0., 0., 0., 0., 0., 0.,\n",
              "        0., 0., 0., 0., 0.],\n",
              "       [0., 0., 0., 0., 0., 3., 0., 0., 0., 0., 0., 0., 3., 4., 0., 0.,\n",
              "        0., 0., 0., 0., 0.],\n",
              "       [0., 0., 0., 0., 0., 3., 0., 0., 0., 0., 0., 4., 4., 0., 0., 0.,\n",
              "        0., 0., 0., 0., 0.],\n",
              "       [0., 0., 0., 0., 0., 5., 0., 0., 3., 4., 0., 0., 0., 0., 0., 0.,\n",
              "        0., 0., 0., 0., 0.],\n",
              "       [0., 0., 0., 0., 0., 3., 0., 0., 0., 4., 0., 2., 0., 0., 0., 0.,\n",
              "        0., 0., 0., 0., 0.],\n",
              "       [0., 0., 0., 0., 0., 0., 0., 0., 0., 0., 0., 4., 4., 0., 0., 0.,\n",
              "        0., 0., 0., 0., 0.],\n",
              "       [0., 0., 0., 0., 0., 0., 0., 0., 0., 0., 0., 0., 4., 0., 0., 0.,\n",
              "        0., 0., 0., 0., 0.],\n",
              "       [0., 0., 0., 0., 0., 5., 0., 0., 4., 0., 0., 0., 0., 0., 0., 0.,\n",
              "        0., 0., 0., 0., 0.]])"
            ]
          },
          "metadata": {},
          "execution_count": 44
        }
      ]
    },
    {
      "cell_type": "code",
      "source": [
        "# compute the SVD of the matrix\n",
        "A = user_movie_rating\n",
        "U, S, Vt = np.linalg.svd(A, full_matrices=False)"
      ],
      "metadata": {
        "id": "ruBO6FASZ26m"
      },
      "execution_count": 45,
      "outputs": []
    },
    {
      "cell_type": "code",
      "source": [
        "print(U.shape, S.shape, Vt.shape)"
      ],
      "metadata": {
        "id": "e5o9txfnmagE",
        "colab": {
          "base_uri": "https://localhost:8080/"
        },
        "outputId": "99e247dd-6f60-491a-c889-41c8340ccccf"
      },
      "execution_count": 46,
      "outputs": [
        {
          "output_type": "stream",
          "name": "stdout",
          "text": [
            "(517, 21) (21,) (21, 21)\n"
          ]
        }
      ]
    },
    {
      "cell_type": "code",
      "source": [
        "A_hat = U @ np.diag(S) @ Vt"
      ],
      "metadata": {
        "id": "1PR6Csv3mkB7"
      },
      "execution_count": 47,
      "outputs": []
    },
    {
      "cell_type": "code",
      "source": [
        "np.set_printoptions(suppress=True, formatter={'float': '{:0.2f}'.format})\n",
        "print(A_hat[:10,])"
      ],
      "metadata": {
        "id": "Gp7ah9zkb4Js",
        "colab": {
          "base_uri": "https://localhost:8080/"
        },
        "outputId": "4806d531-4c3d-4b83-d238-dc1a87d9c65f"
      },
      "execution_count": 48,
      "outputs": [
        {
          "output_type": "stream",
          "name": "stdout",
          "text": [
            "[[0.00 -0.00 0.00 -0.00 -0.00 3.00 -0.00 -0.00 3.00 -0.00 -0.00 3.00\n",
            "  -0.00 -0.00 -0.00 -0.00 -0.00 -0.00 -0.00 -0.00 -0.00]\n",
            " [0.00 -0.00 0.00 -0.00 -0.00 4.00 -0.00 0.00 3.00 -0.00 -0.00 4.00 3.00\n",
            "  -0.00 -0.00 -0.00 3.00 -0.00 -0.00 -0.00 -0.00]\n",
            " [-0.00 -0.00 0.00 -0.00 0.00 0.00 -0.00 -0.00 4.00 -0.00 -0.00 0.00\n",
            "  -0.00 -0.00 -0.00 -0.00 -0.00 -0.00 -0.00 -0.00 -0.00]\n",
            " [0.00 -0.00 -0.00 0.00 -0.00 3.00 0.00 -0.00 0.00 0.00 -0.00 -0.00 3.00\n",
            "  4.00 -0.00 -0.00 -0.00 -0.00 0.00 -0.00 -0.00]\n",
            " [0.00 -0.00 0.00 0.00 -0.00 3.00 0.00 -0.00 0.00 -0.00 0.00 4.00 4.00\n",
            "  -0.00 -0.00 -0.00 -0.00 -0.00 -0.00 -0.00 -0.00]\n",
            " [-0.00 -0.00 0.00 -0.00 -0.00 5.00 -0.00 0.00 3.00 4.00 -0.00 -0.00\n",
            "  -0.00 -0.00 -0.00 -0.00 -0.00 -0.00 0.00 -0.00 0.00]\n",
            " [0.00 -0.00 -0.00 -0.00 -0.00 3.00 0.00 0.00 0.00 4.00 -0.00 2.00 -0.00\n",
            "  -0.00 -0.00 -0.00 -0.00 -0.00 -0.00 -0.00 0.00]\n",
            " [0.00 -0.00 0.00 -0.00 -0.00 0.00 -0.00 -0.00 0.00 -0.00 0.00 4.00 4.00\n",
            "  -0.00 -0.00 -0.00 -0.00 -0.00 -0.00 0.00 -0.00]\n",
            " [0.00 0.00 0.00 0.00 0.00 0.00 -0.00 -0.00 0.00 -0.00 -0.00 0.00 4.00\n",
            "  -0.00 -0.00 0.00 -0.00 -0.00 0.00 0.00 -0.00]\n",
            " [-0.00 -0.00 0.00 -0.00 -0.00 5.00 -0.00 -0.00 4.00 -0.00 -0.00 -0.00\n",
            "  -0.00 -0.00 -0.00 -0.00 -0.00 -0.00 -0.00 -0.00 -0.00]]\n"
          ]
        }
      ]
    },
    {
      "cell_type": "code",
      "source": [
        "sum([a*a for a in S[:3]])/sum([a*a for a in S])"
      ],
      "metadata": {
        "colab": {
          "base_uri": "https://localhost:8080/"
        },
        "id": "bXXFHu2GLgxa",
        "outputId": "1c083577-0a3b-4f33-ab81-9873463696aa"
      },
      "execution_count": 49,
      "outputs": [
        {
          "output_type": "execute_result",
          "data": {
            "text/plain": [
              "0.6550040191135936"
            ]
          },
          "metadata": {},
          "execution_count": 49
        }
      ]
    },
    {
      "cell_type": "code",
      "source": [
        "r = 8\n",
        "A_hat_r = U[:,:r] @ np.diag(S[:r]) @ Vt[:r,:]\n",
        "np.set_printoptions(suppress=True, formatter={'float': '{:0.2f}'.format})\n",
        "print(A_hat_r[:10,])"
      ],
      "metadata": {
        "id": "UlHHXlHFcPOq",
        "colab": {
          "base_uri": "https://localhost:8080/"
        },
        "outputId": "5c7b6d92-fc4f-45b6-f15a-bee1863e2ae5"
      },
      "execution_count": 50,
      "outputs": [
        {
          "output_type": "stream",
          "name": "stdout",
          "text": [
            "[[0.03 0.00 -0.03 -0.09 0.02 3.00 0.08 -0.00 2.99 0.01 -0.01 3.00 -0.01\n",
            "  0.03 0.00 -0.00 -0.01 -0.04 -0.07 0.00 0.01]\n",
            " [0.11 0.03 0.11 0.23 0.01 4.06 1.20 0.04 2.80 0.19 0.03 4.12 2.77 -0.10\n",
            "  0.12 0.13 2.54 -0.04 0.17 0.01 0.01]\n",
            " [0.07 0.02 0.00 0.01 0.03 0.02 0.54 0.03 3.91 0.08 0.02 0.05 -0.10 -0.01\n",
            "  0.05 -0.03 -0.19 -0.05 0.02 0.01 0.00]\n",
            " [0.11 -0.02 0.21 0.22 -0.01 3.04 0.48 -0.02 -0.07 0.08 -0.00 0.06 2.84\n",
            "  2.92 0.01 0.24 -0.21 1.74 0.08 -0.01 -0.01]\n",
            " [0.03 -0.02 0.04 -0.07 -0.02 3.01 0.17 -0.03 -0.03 0.02 -0.06 4.01 3.97\n",
            "  -0.06 0.01 0.09 -0.05 0.07 -0.02 -0.00 0.01]\n",
            " [-0.04 -0.01 -0.09 -0.16 0.01 4.99 -0.22 -0.02 3.04 3.96 -0.03 -0.03\n",
            "  0.05 0.06 -0.03 -0.07 0.11 -0.03 -0.04 -0.00 -0.01]\n",
            " [-0.10 -0.02 -0.12 -0.22 -0.01 2.97 -0.69 -0.03 0.12 3.89 -0.06 1.92\n",
            "  0.13 0.07 -0.08 -0.03 0.28 0.02 -0.09 -0.00 -0.01]\n",
            " [0.04 -0.01 0.04 -0.07 -0.01 0.01 0.28 -0.02 -0.04 0.04 -0.05 4.02 3.95\n",
            "  -0.08 0.02 0.09 -0.09 0.09 -0.01 0.00 0.00]\n",
            " [0.06 -0.01 0.09 0.05 -0.01 0.03 0.57 -0.01 -0.10 0.09 -0.02 0.06 3.89\n",
            "  -0.10 0.05 0.06 -0.21 0.08 0.08 -0.00 -0.01]\n",
            " [0.06 0.00 0.01 -0.01 0.02 5.02 0.35 -0.00 3.94 0.05 0.01 0.03 -0.06\n",
            "  0.02 0.03 -0.03 -0.12 -0.08 -0.00 -0.00 0.01]]\n"
          ]
        }
      ]
    },
    {
      "cell_type": "code",
      "source": [
        "!pip install pyspark"
      ],
      "metadata": {
        "colab": {
          "base_uri": "https://localhost:8080/"
        },
        "collapsed": true,
        "id": "AdI8NitceQNV",
        "outputId": "346abd50-3570-4e7a-e630-bd2aee1561fa"
      },
      "execution_count": 54,
      "outputs": [
        {
          "output_type": "stream",
          "name": "stdout",
          "text": [
            "Collecting pyspark\n",
            "  Downloading pyspark-3.5.1.tar.gz (317.0 MB)\n",
            "\u001b[2K     \u001b[90m━━━━━━━━━━━━━━━━━━━━━━━━━━━━━━━━━━━━━━━━\u001b[0m \u001b[32m317.0/317.0 MB\u001b[0m \u001b[31m2.1 MB/s\u001b[0m eta \u001b[36m0:00:00\u001b[0m\n",
            "\u001b[?25h  Preparing metadata (setup.py) ... \u001b[?25l\u001b[?25hdone\n",
            "Requirement already satisfied: py4j==0.10.9.7 in /usr/local/lib/python3.10/dist-packages (from pyspark) (0.10.9.7)\n",
            "Building wheels for collected packages: pyspark\n",
            "  Building wheel for pyspark (setup.py) ... \u001b[?25l\u001b[?25hdone\n",
            "  Created wheel for pyspark: filename=pyspark-3.5.1-py2.py3-none-any.whl size=317488491 sha256=7beff610998a9613620316e9e60e333c436de658ed046f72446fb492610721ab\n",
            "  Stored in directory: /root/.cache/pip/wheels/80/1d/60/2c256ed38dddce2fdd93be545214a63e02fbd8d74fb0b7f3a6\n",
            "Successfully built pyspark\n",
            "Installing collected packages: pyspark\n",
            "Successfully installed pyspark-3.5.1\n"
          ]
        }
      ]
    },
    {
      "cell_type": "code",
      "source": [
        "from pyspark.sql import SparkSession\n",
        "from pyspark.sql.functions import col\n",
        "import numpy as np\n",
        "import os\n",
        "\n",
        "spark = SparkSession.builder.appName(\"MovieRatings\").getOrCreate()"
      ],
      "metadata": {
        "id": "v8u_1wXmbFNf"
      },
      "execution_count": 57,
      "outputs": []
    },
    {
      "cell_type": "code",
      "source": [
        "df_all = spark.read.csv(os.path.join(dir_name, 'data.txt.csv'), header=True, inferSchema=True)\n",
        "\n",
        "movie_ids = random_movie_ids.union(favorites_movie_ids)\n",
        "\n",
        "df_movie_ids = df_all.filter(col('Movie').isin(list(movie_ids)))\n",
        "\n",
        "df_sample = df_movie_ids.sample(fraction=0.001)\n",
        "\n",
        "user_ids = set(df_sample.select('User').distinct().rdd.flatMap(lambda x: x).collect())\n",
        "\n",
        "df_small = df_all.filter((col('User').isin(list(user_ids))) & (col('Movie').isin(list(movie_ids))))\n",
        "\n",
        "itom = list(sorted(movie_ids))\n",
        "mtoi = {m: i for i, m in enumerate(itom)}\n",
        "itou = list(sorted(user_ids))\n",
        "utoi = {u: i for i, u in enumerate(itou)}\n",
        "\n",
        "user_movie_rating = np.zeros((len(itou), len(itom)))\n",
        "\n",
        "for row in df_small.collect():\n",
        "    movie_id = row['Movie']\n",
        "    movie_index = mtoi[movie_id]\n",
        "    user_id = row['User']\n",
        "    user_index = utoi[user_id]\n",
        "    user_movie_rating[user_index, movie_index] = row['Rating']\n",
        "\n",
        "print(user_movie_rating.shape)\n",
        "\n",
        "A = user_movie_rating\n",
        "U, S, Vt = np.linalg.svd(A, full_matrices=False)\n",
        "\n",
        "A_hat = U @ np.diag(S) @ Vt\n",
        "\n",
        "np.set_printoptions(suppress=True, formatter={'float': '{:0.2f}'.format})\n",
        "print(A_hat[:10,])\n",
        "\n",
        "sum_S_square = sum([a * a for a in S])\n",
        "sum_S_square_3 = sum([a * a for a in S[:3]])\n",
        "print(sum_S_square_3 / sum_S_square)\n",
        "\n",
        "r = 8\n",
        "A_hat_r = U[:, :r] @ np.diag(S[:r]) @ Vt[:r, :]\n",
        "np.set_printoptions(suppress=True, formatter={'float': '{:0.2f}'.format})\n",
        "print(A_hat_r[:10,])\n"
      ],
      "metadata": {
        "colab": {
          "base_uri": "https://localhost:8080/"
        },
        "id": "TvNs76T9d2Ja",
        "outputId": "218315f3-8e5b-4988-fc29-221990305f2a"
      },
      "execution_count": 56,
      "outputs": [
        {
          "output_type": "stream",
          "name": "stdout",
          "text": [
            "(528, 21)\n",
            "[[0.00 -0.00 -0.00 0.00 0.00 3.00 0.00 0.00 3.00 0.00 0.00 -0.00 -0.00\n",
            "  3.00 4.00 0.00 0.00 0.00 0.00 0.00 -0.00]\n",
            " [0.00 0.00 -0.00 0.00 -0.00 4.00 3.00 -0.00 5.00 4.00 0.00 4.00 5.00\n",
            "  0.00 2.00 0.00 3.00 3.00 0.00 -0.00 -0.00]\n",
            " [0.00 -0.00 -0.00 0.00 0.00 5.00 -0.00 -0.00 4.00 0.00 0.00 -0.00 4.00\n",
            "  0.00 5.00 -0.00 4.00 0.00 -0.00 0.00 0.00]\n",
            " [0.00 0.00 -0.00 -0.00 -0.00 -0.00 -0.00 0.00 3.00 0.00 -0.00 4.00 3.00\n",
            "  0.00 0.00 0.00 3.00 0.00 -0.00 -0.00 -0.00]\n",
            " [-0.00 0.00 0.00 -0.00 0.00 -0.00 -0.00 0.00 -0.00 0.00 -0.00 2.00 -0.00\n",
            "  0.00 -0.00 0.00 -0.00 0.00 -0.00 -0.00 0.00]\n",
            " [0.00 -0.00 -0.00 -0.00 -0.00 4.00 -0.00 -0.00 -0.00 -0.00 0.00 -0.00\n",
            "  -0.00 -0.00 -0.00 -0.00 -0.00 -0.00 -0.00 -0.00 -0.00]\n",
            " [0.00 0.00 3.00 -0.00 -0.00 -0.00 3.00 0.00 0.00 0.00 0.00 0.00 -0.00\n",
            "  0.00 5.00 2.00 -0.00 -0.00 3.00 -0.00 -0.00]\n",
            " [-0.00 -0.00 -0.00 0.00 -0.00 3.00 -0.00 -0.00 2.00 3.00 0.00 0.00 0.00\n",
            "  5.00 5.00 3.00 3.00 4.00 0.00 -0.00 -0.00]\n",
            " [0.00 0.00 -0.00 -0.00 0.00 -0.00 0.00 0.00 4.00 0.00 -0.00 5.00 0.00\n",
            "  0.00 0.00 0.00 -0.00 0.00 -0.00 -0.00 0.00]\n",
            " [-0.00 -0.00 -0.00 -0.00 -0.00 4.00 -0.00 -0.00 -0.00 0.00 0.00 -0.00\n",
            "  0.00 -0.00 -0.00 -0.00 3.00 0.00 -0.00 -0.00 -0.00]]\n",
            "0.6644325583442433\n",
            "[[0.06 -0.00 0.06 0.41 -0.01 3.07 0.34 0.04 2.91 -0.03 0.01 -0.08 0.04\n",
            "  2.56 3.98 0.20 -0.13 0.93 0.15 0.00 0.00]\n",
            " [0.03 -0.00 0.01 0.05 0.05 3.85 1.12 0.01 5.27 3.93 0.00 4.29 4.87 0.90\n",
            "  1.97 0.05 3.60 1.03 0.13 0.04 0.01]\n",
            " [0.03 -0.00 0.05 0.37 0.02 5.04 1.13 0.02 3.87 0.26 0.02 -0.09 4.04\n",
            "  -0.05 4.98 0.03 3.63 -0.19 0.22 0.01 0.02]\n",
            " [0.02 0.00 0.01 0.08 0.05 0.06 1.30 0.02 2.85 0.21 0.02 3.87 3.06 -0.19\n",
            "  0.00 -0.01 2.59 0.22 0.12 0.03 0.01]\n",
            " [0.01 0.00 0.01 -0.04 0.01 0.01 0.16 0.00 -0.02 0.01 0.00 1.98 0.01\n",
            "  -0.05 0.00 0.02 -0.05 0.09 -0.01 0.00 -0.00]\n",
            " [-0.01 -0.00 -0.01 -0.10 -0.02 3.99 -0.11 -0.01 0.02 -0.01 -0.01 0.02\n",
            "  -0.01 0.08 0.00 0.02 0.04 -0.16 -0.04 -0.01 0.00]\n",
            " [0.05 0.00 0.07 0.38 0.00 -0.11 0.44 0.03 0.33 -0.53 0.02 0.27 -0.15\n",
            "  0.32 5.08 0.10 0.88 0.06 0.14 -0.00 -0.00]\n",
            " [0.06 -0.00 0.05 0.56 0.01 2.99 0.77 0.04 1.96 3.36 0.03 0.05 -0.05 5.58\n",
            "  5.00 0.32 2.73 2.56 0.28 0.02 0.01]\n",
            " [0.06 0.00 0.04 -0.01 0.04 0.04 0.77 0.03 3.90 0.09 0.02 4.91 0.04 -0.20\n",
            "  0.00 0.06 -0.25 0.35 0.02 0.02 -0.00]\n",
            " [-0.02 -0.00 -0.02 -0.02 -0.01 4.02 0.69 -0.01 -0.07 0.14 0.01 -0.06\n",
            "  0.02 0.01 0.00 -0.00 2.78 -0.15 0.07 0.00 0.02]]\n"
          ]
        }
      ]
    }
  ]
}