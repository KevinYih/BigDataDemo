{
  "nbformat": 4,
  "nbformat_minor": 0,
  "metadata": {
    "colab": {
      "provenance": [],
      "include_colab_link": true
    },
    "kernelspec": {
      "name": "python3",
      "display_name": "Python 3"
    },
    "gpuClass": "standard"
  },
  "cells": [
    {
      "cell_type": "markdown",
      "metadata": {
        "id": "view-in-github",
        "colab_type": "text"
      },
      "source": [
        "<a href=\"https://colab.research.google.com/github/KevinYih/BigDataDemo/blob/main/SVD_Netflix_movie_ratings_by_Kevin.ipynb\" target=\"_parent\"><img src=\"https://colab.research.google.com/assets/colab-badge.svg\" alt=\"Open In Colab\"/></a>"
      ]
    },
    {
      "cell_type": "markdown",
      "source": [
        "#SVD - Netflix movie ratings\n",
        "\n",
        "Adapted from: https://colab.research.google.com/github/ashishdasari148/Recommender-Systems-using-Collaborative-Filtering/blob/master/Netflix.ipynb#scrollTo=qX7Nk4tUGZND"
      ],
      "metadata": {
        "id": "dnpBV4_YEdg9"
      }
    },
    {
      "cell_type": "code",
      "source": [
        "#!echo '{\"username\":\"YOUR_USERNAME\",\"key\":\"YOUR_API_KEY\"}' > /root/.kaggle/kaggle.json\n",
        "#!chmod 600 /root/.kaggle/kaggle.json\n",
        "!pip install kaggle\n",
        "!kaggle datasets download -d netflix-inc/netflix-prize-data"
      ],
      "metadata": {
        "id": "Q2y_PZRw9Zzk"
      },
      "execution_count": null,
      "outputs": []
    },
    {
      "cell_type": "code",
      "metadata": {
        "id": "qX7Nk4tUGZND"
      },
      "source": [
        "import os\n",
        "import zipfile\n",
        "with zipfile.ZipFile('netflix-prize-data.zip', 'r') as zip_ref:\n",
        "    zip_ref.extractall('data')"
      ],
      "execution_count": null,
      "outputs": []
    },
    {
      "cell_type": "code",
      "metadata": {
        "id": "MrvhLTwMGm26"
      },
      "source": [
        "import pandas as pd\n",
        "\n",
        "import re\n",
        "import os\n",
        "import time\n",
        "import matplotlib.pyplot as plt\n",
        "import numpy as np\n",
        "dir_name = 'data'"
      ],
      "execution_count": null,
      "outputs": []
    },
    {
      "cell_type": "code",
      "metadata": {
        "id": "DPPatowpML76"
      },
      "source": [
        "# Converting the txt files into csv files\n",
        "files = ['combined_data_1.txt','combined_data_2.txt','combined_data_3.txt','combined_data_4.txt']\n",
        "for j in files:\n",
        "    file1 = open(os.path.join(dir_name, j),\"r+\")\n",
        "    print(j + \" opened...\")\n",
        "    file2 = open(os.path.join(dir_name, j + '.csv'),\"a\")\n",
        "    for i in file1.readlines():\n",
        "        temp = re.match(\"(\\d*)[:]\", i)\n",
        "        if(temp):\n",
        "            movienumber = temp.group(1)\n",
        "        else:\n",
        "            file2.write(str(movienumber)+\",\"+i)\n",
        "    file1.close()\n",
        "    file2.close()\n",
        "    print(j + \" closed...\")"
      ],
      "execution_count": null,
      "outputs": []
    },
    {
      "cell_type": "code",
      "metadata": {
        "id": "iC9yBe1SNcF4"
      },
      "source": [
        "movie_titles = pd.read_csv(os.path.join(dir_name, 'movie_titles.csv'), encoding = 'ISO-8859-1', header = None, names=['Movie', 'Year of Release', 'Title'], usecols=[0, 1, 2])\n",
        "movie_titles"
      ],
      "execution_count": null,
      "outputs": []
    },
    {
      "cell_type": "code",
      "metadata": {
        "id": "iEPCVPA11wUV"
      },
      "source": [
        "## appending all the csv files of rating data into a single dataframe\n",
        "dfs = []\n",
        "for i in ['combined_data_1.txt.csv','combined_data_2.txt.csv','combined_data_3.txt.csv','combined_data_4.txt.csv']:\n",
        "    df_ = pd.read_csv(os.path.join(dir_name, i), header=None, names=['Movie', 'User', 'Rating', 'Date'], usecols=[0, 1, 2, 3])\n",
        "    df_ = df_[['Movie','User','Rating']]\n",
        "    dfs.append(df_)\n",
        "df_all = pd.concat(dfs, ignore_index=True)"
      ],
      "execution_count": null,
      "outputs": []
    },
    {
      "cell_type": "code",
      "source": [
        "print(\"number of ratings:\", len(df_all))"
      ],
      "metadata": {
        "id": "rvaJ1x8ckycf"
      },
      "execution_count": null,
      "outputs": []
    },
    {
      "cell_type": "code",
      "source": [
        "# search for your favorite movie\n",
        "\n",
        "indices = movie_titles.Title.str.contains('matrix', flags=re.IGNORECASE)\n",
        "movie_titles[indices]\n",
        "# 14691    The Matrix\n",
        "# 3925     The Matrix: Reloaded\n",
        "# 16767    The Matrix: Revisited\n",
        "# 468      The Matrix: Revolutions\n",
        "# 397      A Night in Casablanca\n",
        "# 10661    Tokyo Story\n",
        "# 963      A Streetcar Named Desire\n",
        "# 6099     Apocalypse Now\n",
        "# 4253    Kind Hearts and Coronets\n",
        "# 2412     Harry Potter and the Prisoner of Azkaban: Bonu...\n",
        "# 11443    Harry Potter and the Chamber of Secrets\n",
        "\n"
      ],
      "metadata": {
        "id": "xk9eRHw0Bruq"
      },
      "execution_count": null,
      "outputs": []
    },
    {
      "cell_type": "code",
      "source": [
        "# choosing random movies\n",
        "#movie_ids = set(df_raw.sample(frac=.00001).Movie.unique())\n",
        "\n",
        "# or choosing your favorite\n",
        "movie_ids = set({14691, 3925, 16767, 468, 397, 10661, 963, 6099, 4253, 2412, 11443,13082, 17339 })\n"
      ],
      "metadata": {
        "id": "prgCLbBiFft8"
      },
      "execution_count": null,
      "outputs": []
    },
    {
      "cell_type": "code",
      "source": [
        "df_all[df_all.Movie == 17339 ]"
      ],
      "metadata": {
        "id": "UegUvG2OFsEk"
      },
      "execution_count": null,
      "outputs": []
    },
    {
      "cell_type": "code",
      "metadata": {
        "id": "yEEFq58H2mmw"
      },
      "source": [
        "# saving the merged file to drive for further use.\n",
        "#df_all.to_csv(path_or_buf=os.path.join(dir_name, 'data.txt.csv'),index=False)"
      ],
      "execution_count": null,
      "outputs": []
    },
    {
      "cell_type": "code",
      "metadata": {
        "id": "xR9lat9N3Nnv"
      },
      "source": [
        "# loading the saved csv into dataframe\n",
        "#df_all = pd.read_csv(os.path.join(dir_name, 'data.txt.csv'))"
      ],
      "execution_count": null,
      "outputs": []
    },
    {
      "cell_type": "code",
      "source": [
        "print(\"number of ratings:\", len(df_all))"
      ],
      "metadata": {
        "id": "_jQe0_HvlIkv"
      },
      "execution_count": null,
      "outputs": []
    },
    {
      "cell_type": "code",
      "source": [
        "df_movie_ids = df_all[df_all.Movie.isin(movie_ids)]\n",
        "print(\"Unique movie ids in the dataframe:\", (df_movie_ids.Movie.unique()))\n",
        "print(\"Number of unique user ids:\", len(df_movie_ids.User.unique()))"
      ],
      "metadata": {
        "id": "n_iFgK5oFyl8"
      },
      "execution_count": null,
      "outputs": []
    },
    {
      "cell_type": "code",
      "source": [
        "df_ = df_movie_ids.sample(frac=0.001)\n",
        "len(df_)"
      ],
      "metadata": {
        "id": "aNYQbsQSRo2p"
      },
      "execution_count": null,
      "outputs": []
    },
    {
      "cell_type": "code",
      "source": [
        "# create a dataframe that only contains rating for a subset of users and\n",
        "# a subset of movies\n",
        "user_ids = set(df_.User.unique())\n",
        "df_small = df_all[(df_all.User.isin(user_ids) & df_all.Movie.isin(movie_ids))]\n",
        "print(\"Unique movie ids in the dataframe:\", (df_small.Movie.unique()))\n",
        "print(\"Number of unique user ids:\", len(df_small.User.unique()))\n",
        "print(\"Number of ratings:\", len(df_small))"
      ],
      "metadata": {
        "id": "Sd_OWrKZR0L6"
      },
      "execution_count": null,
      "outputs": []
    },
    {
      "cell_type": "code",
      "source": [
        "itom = list(sorted(movie_ids))\n",
        "mtoi = {m: i for i, m in enumerate(itom)}\n",
        "itou = list(sorted(user_ids))\n",
        "utoi = {u: i for i, u in enumerate(itou)}"
      ],
      "metadata": {
        "id": "SfMvmK0uSxtM"
      },
      "execution_count": null,
      "outputs": []
    },
    {
      "cell_type": "code",
      "source": [
        "user_movie_rating = np.zeros((len(itou), len(itom)))\n",
        "\n",
        "for index, row in df_small.iterrows():\n",
        "  movie_id = row.Movie\n",
        "  movie_index = mtoi[movie_id]\n",
        "\n",
        "  user_id = row.User\n",
        "  user_index = utoi[user_id]\n",
        "\n",
        "  user_movie_rating[user_index, movie_index] = row.Rating"
      ],
      "metadata": {
        "id": "ryaho15KYYAn"
      },
      "execution_count": null,
      "outputs": []
    },
    {
      "cell_type": "code",
      "source": [
        "user_movie_rating.shape"
      ],
      "metadata": {
        "id": "p5jvxgf6PH6D"
      },
      "execution_count": null,
      "outputs": []
    },
    {
      "cell_type": "code",
      "source": [
        "# more efficient way of building a user-movie rating matrix\n",
        "um = df_small.pivot_table(index='User', columns='Movie', values='Rating').values\n",
        "um.shape"
      ],
      "metadata": {
        "id": "x2gscCIYpjct"
      },
      "execution_count": null,
      "outputs": []
    },
    {
      "cell_type": "code",
      "source": [
        "user_movie_rating[:10,]"
      ],
      "metadata": {
        "id": "UUTHiqCtZc4F"
      },
      "execution_count": null,
      "outputs": []
    },
    {
      "cell_type": "code",
      "source": [
        "# compute the SVD of the matrix\n",
        "A = user_movie_rating\n",
        "U, S, Vt = np.linalg.svd(A, full_matrices=False)"
      ],
      "metadata": {
        "id": "ruBO6FASZ26m"
      },
      "execution_count": null,
      "outputs": []
    },
    {
      "cell_type": "code",
      "source": [
        "print(U.shape, S.shape, Vt.shape)"
      ],
      "metadata": {
        "id": "e5o9txfnmagE"
      },
      "execution_count": null,
      "outputs": []
    },
    {
      "cell_type": "code",
      "source": [
        "A_hat = U @ np.diag(S) @ Vt"
      ],
      "metadata": {
        "id": "1PR6Csv3mkB7"
      },
      "execution_count": null,
      "outputs": []
    },
    {
      "cell_type": "code",
      "source": [
        "np.set_printoptions(suppress=True, formatter={'float': '{:0.2f}'.format})\n",
        "print(A_hat[:10,])"
      ],
      "metadata": {
        "id": "Gp7ah9zkb4Js"
      },
      "execution_count": null,
      "outputs": []
    },
    {
      "cell_type": "code",
      "source": [
        "sum([a*a for a in S[:3]])/sum([a*a for a in S])"
      ],
      "metadata": {
        "colab": {
          "base_uri": "https://localhost:8080/"
        },
        "id": "bXXFHu2GLgxa",
        "outputId": "c8928415-d31b-4592-9804-07c5b01aa520"
      },
      "execution_count": null,
      "outputs": [
        {
          "output_type": "execute_result",
          "data": {
            "text/plain": [
              "0.8748565522564679"
            ]
          },
          "metadata": {},
          "execution_count": 14
        }
      ]
    },
    {
      "cell_type": "code",
      "source": [
        "r = 8\n",
        "A_hat_r = U[:,:r] @ np.diag(S[:r]) @ Vt[:r,:]\n",
        "np.set_printoptions(suppress=True, formatter={'float': '{:0.2f}'.format})\n",
        "print(A_hat_r[:10,])"
      ],
      "metadata": {
        "id": "UlHHXlHFcPOq"
      },
      "execution_count": null,
      "outputs": []
    },
    {
      "cell_type": "code",
      "source": [],
      "metadata": {
        "id": "pnUebvP8nVze"
      },
      "execution_count": null,
      "outputs": []
    }
  ]
}