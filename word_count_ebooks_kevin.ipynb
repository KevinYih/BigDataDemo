{
  "nbformat": 4,
  "nbformat_minor": 0,
  "metadata": {
    "colab": {
      "provenance": [],
      "mount_file_id": "1j2BQFtfHy1UrbxcncM8jisR23v5t5o-t",
      "authorship_tag": "ABX9TyP7l8mX2ERCW6CJ0+c2h6KL",
      "include_colab_link": true
    },
    "kernelspec": {
      "name": "python3",
      "display_name": "Python 3"
    },
    "language_info": {
      "name": "python"
    }
  },
  "cells": [
    {
      "cell_type": "markdown",
      "metadata": {
        "id": "view-in-github",
        "colab_type": "text"
      },
      "source": [
        "<a href=\"https://colab.research.google.com/github/KevinYih/BigDataDemo/blob/main/word_count_ebooks_kevin.ipynb\" target=\"_parent\"><img src=\"https://colab.research.google.com/assets/colab-badge.svg\" alt=\"Open In Colab\"/></a>"
      ]
    },
    {
      "cell_type": "code",
      "execution_count": 2,
      "metadata": {
        "colab": {
          "base_uri": "https://localhost:8080/"
        },
        "collapsed": true,
        "id": "_mbOuOu5Sm0F",
        "outputId": "875e9db7-2550-4418-f48e-d09663d2e16a"
      },
      "outputs": [
        {
          "output_type": "stream",
          "name": "stdout",
          "text": [
            "Collecting mrjob==0.7.4\n",
            "  Downloading mrjob-0.7.4-py2.py3-none-any.whl (439 kB)\n",
            "\u001b[2K     \u001b[90m━━━━━━━━━━━━━━━━━━━━━━━━━━━━━━━━━━━━━━━━\u001b[0m \u001b[32m439.6/439.6 kB\u001b[0m \u001b[31m3.2 MB/s\u001b[0m eta \u001b[36m0:00:00\u001b[0m\n",
            "\u001b[?25hRequirement already satisfied: PyYAML>=3.10 in /usr/local/lib/python3.10/dist-packages (from mrjob==0.7.4) (6.0.1)\n",
            "Installing collected packages: mrjob\n",
            "Successfully installed mrjob-0.7.4\n"
          ]
        }
      ],
      "source": [
        "!pip install mrjob==0.7.4"
      ]
    },
    {
      "cell_type": "markdown",
      "source": [
        "If there are no errors above, then MRJob is properly installed in the system and ready to use."
      ],
      "metadata": {
        "id": "Bh5DjIcXTulY"
      }
    },
    {
      "cell_type": "code",
      "source": [
        "%%file wordcount2.py\n",
        "#2) (Text normalization & Stop word filtering)\n",
        "# 2-1 Write a map-reduce to normalize text by handling punctuation, capitalization, and special characters, ensuring that \"Word\", \"word\", and \"word!\", for example, are counted as the same word.\n",
        "# 2-2 Introduce a step in mapper function to filter out common stop words (e.g. \"a\", \"and\", \"the\", etc.) before counting word frequencies, to focus on more meaningful content.\n",
        "from mrjob.job import MRJob\n",
        "import re\n",
        "\n",
        "class WordCount(MRJob):\n",
        "    # Common stop words\n",
        "    STOP_WORDS = set([\"a\", \"an\", \"and\", \"the\", \"in\", \"on\", \"at\", \"for\", \"with\", \"is\", \"it\", \"this\", \"that\", \"there\", \"to\", \"by\"])\n",
        "\n",
        "    def mapper(self, key, value):\n",
        "        # Normalize words: lowercasing and removing non-alphanumeric characters\n",
        "        words = re.findall(r'\\b[a-zA-Z]+\\b', value.lower())\n",
        "\n",
        "        # Emit each word unless it's a stop word\n",
        "        for word in words:\n",
        "            if word not in self.STOP_WORDS:\n",
        "                yield word, 1\n",
        "\n",
        "    def reducer(self, key, values):\n",
        "        yield key, sum(values)\n",
        "\n",
        "if __name__ == '__main__':\n",
        "     WordCount.run()"
      ],
      "metadata": {
        "colab": {
          "base_uri": "https://localhost:8080/"
        },
        "id": "jxU88AfdT1uH",
        "outputId": "f77712f2-edb4-44b4-f409-d1901258ddc0"
      },
      "execution_count": 60,
      "outputs": [
        {
          "output_type": "stream",
          "name": "stdout",
          "text": [
            "Overwriting wordcount2.py\n"
          ]
        }
      ]
    },
    {
      "cell_type": "code",
      "source": [
        "%%file wordcount3.py\n",
        "#3) Based on requirement 2, write a map-reduce job that for each character in the English alphabet calculates the number of unique words that start with that character (use the multi-step functionality: https://mrjob.readthedocs.io/en/latest/guides/writing-mrjobs.html#multi-step-jobs)\n",
        "from mrjob.job import MRJob\n",
        "from mrjob.step import MRStep\n",
        "import re\n",
        "\n",
        "class WordCount(MRJob):\n",
        "    # Common stop words\n",
        "    STOP_WORDS = set([\"a\", \"an\", \"and\", \"the\", \"in\", \"on\", \"at\", \"for\", \"with\", \"is\", \"it\", \"this\", \"that\", \"there\", \"to\", \"by\"])\n",
        "\n",
        "    def mapper(self, key, value):\n",
        "        # Normalize words: lowercasing and removing non-alphanumeric characters\n",
        "        # words = re.findall(r'\\b\\w+\\b', value.lower())\n",
        "        words = re.findall(r'\\b[a-zA-Z]+\\b', value.lower())\n",
        "\n",
        "        # Emit each word unless it's a stop word   ,,, and word[0].isalpha()\n",
        "        for word in words:\n",
        "            if word not in self.STOP_WORDS:\n",
        "                yield word, 1\n",
        "\n",
        "    def reducer(self, key, values):\n",
        "        yield key, sum(values)\n",
        "\n",
        "\n",
        "    def mapper_get_initial(self, word, count):\n",
        "        # Emit the initial character and the word\n",
        "        initial = word[0]\n",
        "        yield initial, word\n",
        "\n",
        "    def reducer_count_unique_words(self, initial, words):\n",
        "        unique_words = set(words)\n",
        "        yield initial, len(unique_words)\n",
        "\n",
        "    def steps(self):\n",
        "        return [\n",
        "            MRStep(mapper=self.mapper, reducer=self.reducer),\n",
        "            MRStep(mapper=self.mapper_get_initial, reducer=self.reducer_count_unique_words)\n",
        "        ]\n",
        "\n",
        "if __name__ == '__main__':\n",
        "     WordCount.run()"
      ],
      "metadata": {
        "colab": {
          "base_uri": "https://localhost:8080/"
        },
        "id": "PfaGl5jleTEq",
        "outputId": "25619fb6-2266-448c-a4b0-0d0e020c960e"
      },
      "execution_count": 52,
      "outputs": [
        {
          "output_type": "stream",
          "name": "stdout",
          "text": [
            "Overwriting wordcount3.py\n"
          ]
        }
      ]
    },
    {
      "cell_type": "code",
      "source": [
        "%%file wordcount4.py\n",
        "#4) Based on requirement 2, write a map-reduce job that for each character in the English alphabet calculates the number of words that start with that character and have a frequency of more than 100 in the entire dataset\n",
        "from mrjob.job import MRJob\n",
        "from mrjob.step import MRStep\n",
        "import re\n",
        "\n",
        "class WordCount(MRJob):\n",
        "    # Common stop words\n",
        "    STOP_WORDS = set([\"a\", \"an\", \"and\", \"the\", \"in\", \"on\", \"at\", \"for\", \"with\", \"is\", \"it\", \"this\", \"that\", \"there\", \"to\", \"by\"])\n",
        "\n",
        "    def mapper(self, key, value):\n",
        "        # Normalize words: lowercasing and removing non-alphanumeric characters\n",
        "        words = re.findall(r'\\b[a-zA-Z]+\\b', value.lower())\n",
        "\n",
        "        # Emit each word unless it's a stop word\n",
        "        for word in words:\n",
        "            if word not in self.STOP_WORDS:\n",
        "                yield word, 1\n",
        "\n",
        "    def reducer(self, key, values):\n",
        "        yield key, sum(values)\n",
        "\n",
        "    def mapper_filter_words(self, word, count):\n",
        "        if count > 1:\n",
        "            yield word[0], 1\n",
        "\n",
        "    def reducer_count_initial_letters(self, initial, counts):\n",
        "        yield initial, sum(counts)\n",
        "\n",
        "\n",
        "    def steps(self):\n",
        "        return [\n",
        "            MRStep(mapper=self.mapper, reducer=self.reducer),\n",
        "            MRStep(mapper=self.mapper_filter_words, reducer=self.reducer_count_initial_letters)\n",
        "        ]\n",
        "\n",
        "if __name__ == '__main__':\n",
        "     WordCount.run()"
      ],
      "metadata": {
        "colab": {
          "base_uri": "https://localhost:8080/"
        },
        "id": "lSjZQuMnqDZl",
        "outputId": "e4c768d0-ff16-4eaa-bef5-1f07691d1c89"
      },
      "execution_count": 55,
      "outputs": [
        {
          "output_type": "stream",
          "name": "stdout",
          "text": [
            "Overwriting wordcount4.py\n"
          ]
        }
      ]
    },
    {
      "cell_type": "code",
      "source": [
        "!python wordcount4.py PrideAndPrejudice.txt RomeoAndJuliet.txt TheModernPrometheus.txt TheWhale.txt ToThePersonSittingInDarkness.txt"
      ],
      "metadata": {
        "colab": {
          "base_uri": "https://localhost:8080/"
        },
        "collapsed": true,
        "id": "6hrWU8MBZrAh",
        "outputId": "cff4687f-0326-4d26-ee1d-3de6f37bee83"
      },
      "execution_count": 59,
      "outputs": [
        {
          "output_type": "stream",
          "name": "stdout",
          "text": [
            "No configs found; falling back on auto-configuration\n",
            "No configs specified for inline runner\n",
            "Creating temp directory /tmp/wordcount4.root.20240528.092610.581608\n",
            "Running step 1 of 2...\n",
            "Running step 2 of 2...\n",
            "job output is in /tmp/wordcount4.root.20240528.092610.581608/output\n",
            "Streaming final output from /tmp/wordcount4.root.20240528.092610.581608/output...\n",
            "\"a\"\t859\n",
            "\"b\"\t728\n",
            "\"c\"\t1240\n",
            "\"d\"\t853\n",
            "\"m\"\t628\n",
            "\"n\"\t228\n",
            "\"o\"\t283\n",
            "\"p\"\t1021\n",
            "\"q\"\t64\n",
            "\"r\"\t723\n",
            "\"s\"\t1570\n",
            "\"e\"\t614\n",
            "\"f\"\t623\n",
            "\"g\"\t401\n",
            "\"h\"\t537\n",
            "\"i\"\t611\n",
            "\"j\"\t127\n",
            "\"k\"\t92\n",
            "\"l\"\t453\n",
            "\"t\"\t640\n",
            "\"u\"\t321\n",
            "\"v\"\t215\n",
            "\"w\"\t464\n",
            "\"x\"\t23\n",
            "\"y\"\t50\n",
            "\"z\"\t8\n",
            "Removing temp directory /tmp/wordcount4.root.20240528.092610.581608...\n"
          ]
        }
      ]
    },
    {
      "cell_type": "markdown",
      "source": [
        "This will run it locally (not on Hadoop) and process any file you pass in as the first argument."
      ],
      "metadata": {
        "id": "gWfg3YwlZuI4"
      }
    },
    {
      "cell_type": "code",
      "source": [
        "# upload top 5 ebook\n",
        "from google.colab import files\n",
        "\n",
        "uploaded = files.upload()"
      ],
      "metadata": {
        "colab": {
          "base_uri": "https://localhost:8080/",
          "height": 211
        },
        "collapsed": true,
        "id": "IUmmUiCYXsw7",
        "outputId": "2c50d1b6-2405-4215-ef94-1b579f1f3872"
      },
      "execution_count": 23,
      "outputs": [
        {
          "output_type": "display_data",
          "data": {
            "text/plain": [
              "<IPython.core.display.HTML object>"
            ],
            "text/html": [
              "\n",
              "     <input type=\"file\" id=\"files-80656ad2-cd6b-4261-b08b-9498c682dd20\" name=\"files[]\" multiple disabled\n",
              "        style=\"border:none\" />\n",
              "     <output id=\"result-80656ad2-cd6b-4261-b08b-9498c682dd20\">\n",
              "      Upload widget is only available when the cell has been executed in the\n",
              "      current browser session. Please rerun this cell to enable.\n",
              "      </output>\n",
              "      <script>// Copyright 2017 Google LLC\n",
              "//\n",
              "// Licensed under the Apache License, Version 2.0 (the \"License\");\n",
              "// you may not use this file except in compliance with the License.\n",
              "// You may obtain a copy of the License at\n",
              "//\n",
              "//      http://www.apache.org/licenses/LICENSE-2.0\n",
              "//\n",
              "// Unless required by applicable law or agreed to in writing, software\n",
              "// distributed under the License is distributed on an \"AS IS\" BASIS,\n",
              "// WITHOUT WARRANTIES OR CONDITIONS OF ANY KIND, either express or implied.\n",
              "// See the License for the specific language governing permissions and\n",
              "// limitations under the License.\n",
              "\n",
              "/**\n",
              " * @fileoverview Helpers for google.colab Python module.\n",
              " */\n",
              "(function(scope) {\n",
              "function span(text, styleAttributes = {}) {\n",
              "  const element = document.createElement('span');\n",
              "  element.textContent = text;\n",
              "  for (const key of Object.keys(styleAttributes)) {\n",
              "    element.style[key] = styleAttributes[key];\n",
              "  }\n",
              "  return element;\n",
              "}\n",
              "\n",
              "// Max number of bytes which will be uploaded at a time.\n",
              "const MAX_PAYLOAD_SIZE = 100 * 1024;\n",
              "\n",
              "function _uploadFiles(inputId, outputId) {\n",
              "  const steps = uploadFilesStep(inputId, outputId);\n",
              "  const outputElement = document.getElementById(outputId);\n",
              "  // Cache steps on the outputElement to make it available for the next call\n",
              "  // to uploadFilesContinue from Python.\n",
              "  outputElement.steps = steps;\n",
              "\n",
              "  return _uploadFilesContinue(outputId);\n",
              "}\n",
              "\n",
              "// This is roughly an async generator (not supported in the browser yet),\n",
              "// where there are multiple asynchronous steps and the Python side is going\n",
              "// to poll for completion of each step.\n",
              "// This uses a Promise to block the python side on completion of each step,\n",
              "// then passes the result of the previous step as the input to the next step.\n",
              "function _uploadFilesContinue(outputId) {\n",
              "  const outputElement = document.getElementById(outputId);\n",
              "  const steps = outputElement.steps;\n",
              "\n",
              "  const next = steps.next(outputElement.lastPromiseValue);\n",
              "  return Promise.resolve(next.value.promise).then((value) => {\n",
              "    // Cache the last promise value to make it available to the next\n",
              "    // step of the generator.\n",
              "    outputElement.lastPromiseValue = value;\n",
              "    return next.value.response;\n",
              "  });\n",
              "}\n",
              "\n",
              "/**\n",
              " * Generator function which is called between each async step of the upload\n",
              " * process.\n",
              " * @param {string} inputId Element ID of the input file picker element.\n",
              " * @param {string} outputId Element ID of the output display.\n",
              " * @return {!Iterable<!Object>} Iterable of next steps.\n",
              " */\n",
              "function* uploadFilesStep(inputId, outputId) {\n",
              "  const inputElement = document.getElementById(inputId);\n",
              "  inputElement.disabled = false;\n",
              "\n",
              "  const outputElement = document.getElementById(outputId);\n",
              "  outputElement.innerHTML = '';\n",
              "\n",
              "  const pickedPromise = new Promise((resolve) => {\n",
              "    inputElement.addEventListener('change', (e) => {\n",
              "      resolve(e.target.files);\n",
              "    });\n",
              "  });\n",
              "\n",
              "  const cancel = document.createElement('button');\n",
              "  inputElement.parentElement.appendChild(cancel);\n",
              "  cancel.textContent = 'Cancel upload';\n",
              "  const cancelPromise = new Promise((resolve) => {\n",
              "    cancel.onclick = () => {\n",
              "      resolve(null);\n",
              "    };\n",
              "  });\n",
              "\n",
              "  // Wait for the user to pick the files.\n",
              "  const files = yield {\n",
              "    promise: Promise.race([pickedPromise, cancelPromise]),\n",
              "    response: {\n",
              "      action: 'starting',\n",
              "    }\n",
              "  };\n",
              "\n",
              "  cancel.remove();\n",
              "\n",
              "  // Disable the input element since further picks are not allowed.\n",
              "  inputElement.disabled = true;\n",
              "\n",
              "  if (!files) {\n",
              "    return {\n",
              "      response: {\n",
              "        action: 'complete',\n",
              "      }\n",
              "    };\n",
              "  }\n",
              "\n",
              "  for (const file of files) {\n",
              "    const li = document.createElement('li');\n",
              "    li.append(span(file.name, {fontWeight: 'bold'}));\n",
              "    li.append(span(\n",
              "        `(${file.type || 'n/a'}) - ${file.size} bytes, ` +\n",
              "        `last modified: ${\n",
              "            file.lastModifiedDate ? file.lastModifiedDate.toLocaleDateString() :\n",
              "                                    'n/a'} - `));\n",
              "    const percent = span('0% done');\n",
              "    li.appendChild(percent);\n",
              "\n",
              "    outputElement.appendChild(li);\n",
              "\n",
              "    const fileDataPromise = new Promise((resolve) => {\n",
              "      const reader = new FileReader();\n",
              "      reader.onload = (e) => {\n",
              "        resolve(e.target.result);\n",
              "      };\n",
              "      reader.readAsArrayBuffer(file);\n",
              "    });\n",
              "    // Wait for the data to be ready.\n",
              "    let fileData = yield {\n",
              "      promise: fileDataPromise,\n",
              "      response: {\n",
              "        action: 'continue',\n",
              "      }\n",
              "    };\n",
              "\n",
              "    // Use a chunked sending to avoid message size limits. See b/62115660.\n",
              "    let position = 0;\n",
              "    do {\n",
              "      const length = Math.min(fileData.byteLength - position, MAX_PAYLOAD_SIZE);\n",
              "      const chunk = new Uint8Array(fileData, position, length);\n",
              "      position += length;\n",
              "\n",
              "      const base64 = btoa(String.fromCharCode.apply(null, chunk));\n",
              "      yield {\n",
              "        response: {\n",
              "          action: 'append',\n",
              "          file: file.name,\n",
              "          data: base64,\n",
              "        },\n",
              "      };\n",
              "\n",
              "      let percentDone = fileData.byteLength === 0 ?\n",
              "          100 :\n",
              "          Math.round((position / fileData.byteLength) * 100);\n",
              "      percent.textContent = `${percentDone}% done`;\n",
              "\n",
              "    } while (position < fileData.byteLength);\n",
              "  }\n",
              "\n",
              "  // All done.\n",
              "  yield {\n",
              "    response: {\n",
              "      action: 'complete',\n",
              "    }\n",
              "  };\n",
              "}\n",
              "\n",
              "scope.google = scope.google || {};\n",
              "scope.google.colab = scope.google.colab || {};\n",
              "scope.google.colab._files = {\n",
              "  _uploadFiles,\n",
              "  _uploadFilesContinue,\n",
              "};\n",
              "})(self);\n",
              "</script> "
            ]
          },
          "metadata": {}
        },
        {
          "output_type": "stream",
          "name": "stdout",
          "text": [
            "Saving PrideAndPrejudice.txt to PrideAndPrejudice.txt\n",
            "Saving RomeoAndJuliet.txt to RomeoAndJuliet.txt\n",
            "Saving TheModernPrometheus.txt to TheModernPrometheus.txt\n",
            "Saving TheWhale.txt to TheWhale.txt\n",
            "Saving ToThePersonSittingInDarkness.txt to ToThePersonSittingInDarkness.txt\n"
          ]
        }
      ]
    },
    {
      "cell_type": "markdown",
      "source": [
        "Upload top 5 ebook.\n",
        "\n"
      ],
      "metadata": {
        "id": "OpSMT6beT9W5"
      }
    },
    {
      "cell_type": "code",
      "source": [
        "%pwd"
      ],
      "metadata": {
        "colab": {
          "base_uri": "https://localhost:8080/",
          "height": 36
        },
        "id": "XIn599wtXZqZ",
        "outputId": "4de5e66a-5c73-4162-babc-31d23056f058"
      },
      "execution_count": null,
      "outputs": [
        {
          "output_type": "execute_result",
          "data": {
            "text/plain": [
              "'/content'"
            ],
            "application/vnd.google.colaboratory.intrinsic+json": {
              "type": "string"
            }
          },
          "metadata": {},
          "execution_count": 1
        }
      ]
    }
  ]
}