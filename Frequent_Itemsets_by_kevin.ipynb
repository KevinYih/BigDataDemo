{
  "nbformat": 4,
  "nbformat_minor": 0,
  "metadata": {
    "colab": {
      "provenance": [],
      "include_colab_link": true
    },
    "kernelspec": {
      "name": "python3",
      "display_name": "Python 3"
    }
  },
  "cells": [
    {
      "cell_type": "markdown",
      "metadata": {
        "id": "view-in-github",
        "colab_type": "text"
      },
      "source": [
        "<a href=\"https://colab.research.google.com/github/KevinYih/BigDataDemo/blob/main/Frequent_Itemsets_by_kevin.ipynb\" target=\"_parent\"><img src=\"https://colab.research.google.com/assets/colab-badge.svg\" alt=\"Open In Colab\"/></a>"
      ]
    },
    {
      "cell_type": "markdown",
      "metadata": {
        "id": "kPt5q27L5557"
      },
      "source": [
        "## Frequent Pattern Mining in Spark\n",
        "source: https://colab.research.google.com/drive/1Db3fj_3jlDXgdrFWH6fUe03QF6ZT5EL5?usp=sharing"
      ]
    },
    {
      "cell_type": "markdown",
      "metadata": {
        "id": "p0-YhEpP_Ds-"
      },
      "source": [
        "### Setup"
      ]
    },
    {
      "cell_type": "markdown",
      "metadata": {
        "id": "Zsj5WYpR9QId"
      },
      "source": [
        "Let's set up Spark on your Colab environment.  Run the cell below!"
      ]
    },
    {
      "cell_type": "code",
      "metadata": {
        "id": "k-qHai2252mI",
        "colab": {
          "base_uri": "https://localhost:8080/"
        },
        "collapsed": true,
        "outputId": "6d423baf-b318-48f7-f808-f9eb6f97e224"
      },
      "source": [
        "!pip install pyspark\n",
        "!pip install -U -q PyDrive\n",
        "!apt install openjdk-8-jdk-headless -qq\n",
        "import os\n",
        "os.environ[\"JAVA_HOME\"] = \"/usr/lib/jvm/java-8-openjdk-amd64\""
      ],
      "execution_count": 1,
      "outputs": [
        {
          "output_type": "stream",
          "name": "stdout",
          "text": [
            "Collecting pyspark\n",
            "  Downloading pyspark-3.5.1.tar.gz (317.0 MB)\n",
            "\u001b[2K     \u001b[90m━━━━━━━━━━━━━━━━━━━━━━━━━━━━━━━━━━━━━━━━\u001b[0m \u001b[32m317.0/317.0 MB\u001b[0m \u001b[31m2.1 MB/s\u001b[0m eta \u001b[36m0:00:00\u001b[0m\n",
            "\u001b[?25h  Preparing metadata (setup.py) ... \u001b[?25l\u001b[?25hdone\n",
            "Requirement already satisfied: py4j==0.10.9.7 in /usr/local/lib/python3.10/dist-packages (from pyspark) (0.10.9.7)\n",
            "Building wheels for collected packages: pyspark\n",
            "  Building wheel for pyspark (setup.py) ... \u001b[?25l\u001b[?25hdone\n",
            "  Created wheel for pyspark: filename=pyspark-3.5.1-py2.py3-none-any.whl size=317488491 sha256=95c1ef858f230b9f7a0eb405aad5b874a6832c813a5d816751c5a8063235ca69\n",
            "  Stored in directory: /root/.cache/pip/wheels/80/1d/60/2c256ed38dddce2fdd93be545214a63e02fbd8d74fb0b7f3a6\n",
            "Successfully built pyspark\n",
            "Installing collected packages: pyspark\n",
            "Successfully installed pyspark-3.5.1\n",
            "The following additional packages will be installed:\n",
            "  libxtst6 openjdk-8-jre-headless\n",
            "Suggested packages:\n",
            "  openjdk-8-demo openjdk-8-source libnss-mdns fonts-dejavu-extra fonts-nanum fonts-ipafont-gothic\n",
            "  fonts-ipafont-mincho fonts-wqy-microhei fonts-wqy-zenhei fonts-indic\n",
            "The following NEW packages will be installed:\n",
            "  libxtst6 openjdk-8-jdk-headless openjdk-8-jre-headless\n",
            "0 upgraded, 3 newly installed, 0 to remove and 45 not upgraded.\n",
            "Need to get 39.6 MB of archives.\n",
            "After this operation, 144 MB of additional disk space will be used.\n",
            "Selecting previously unselected package libxtst6:amd64.\n",
            "(Reading database ... 121913 files and directories currently installed.)\n",
            "Preparing to unpack .../libxtst6_2%3a1.2.3-1build4_amd64.deb ...\n",
            "Unpacking libxtst6:amd64 (2:1.2.3-1build4) ...\n",
            "Selecting previously unselected package openjdk-8-jre-headless:amd64.\n",
            "Preparing to unpack .../openjdk-8-jre-headless_8u412-ga-1~22.04.1_amd64.deb ...\n",
            "Unpacking openjdk-8-jre-headless:amd64 (8u412-ga-1~22.04.1) ...\n",
            "Selecting previously unselected package openjdk-8-jdk-headless:amd64.\n",
            "Preparing to unpack .../openjdk-8-jdk-headless_8u412-ga-1~22.04.1_amd64.deb ...\n",
            "Unpacking openjdk-8-jdk-headless:amd64 (8u412-ga-1~22.04.1) ...\n",
            "Setting up libxtst6:amd64 (2:1.2.3-1build4) ...\n",
            "Setting up openjdk-8-jre-headless:amd64 (8u412-ga-1~22.04.1) ...\n",
            "update-alternatives: using /usr/lib/jvm/java-8-openjdk-amd64/jre/bin/orbd to provide /usr/bin/orbd (orbd) in auto mode\n",
            "update-alternatives: using /usr/lib/jvm/java-8-openjdk-amd64/jre/bin/servertool to provide /usr/bin/servertool (servertool) in auto mode\n",
            "update-alternatives: using /usr/lib/jvm/java-8-openjdk-amd64/jre/bin/tnameserv to provide /usr/bin/tnameserv (tnameserv) in auto mode\n",
            "Setting up openjdk-8-jdk-headless:amd64 (8u412-ga-1~22.04.1) ...\n",
            "update-alternatives: using /usr/lib/jvm/java-8-openjdk-amd64/bin/clhsdb to provide /usr/bin/clhsdb (clhsdb) in auto mode\n",
            "update-alternatives: using /usr/lib/jvm/java-8-openjdk-amd64/bin/extcheck to provide /usr/bin/extcheck (extcheck) in auto mode\n",
            "update-alternatives: using /usr/lib/jvm/java-8-openjdk-amd64/bin/hsdb to provide /usr/bin/hsdb (hsdb) in auto mode\n",
            "update-alternatives: using /usr/lib/jvm/java-8-openjdk-amd64/bin/idlj to provide /usr/bin/idlj (idlj) in auto mode\n",
            "update-alternatives: using /usr/lib/jvm/java-8-openjdk-amd64/bin/javah to provide /usr/bin/javah (javah) in auto mode\n",
            "update-alternatives: using /usr/lib/jvm/java-8-openjdk-amd64/bin/jhat to provide /usr/bin/jhat (jhat) in auto mode\n",
            "update-alternatives: using /usr/lib/jvm/java-8-openjdk-amd64/bin/jsadebugd to provide /usr/bin/jsadebugd (jsadebugd) in auto mode\n",
            "update-alternatives: using /usr/lib/jvm/java-8-openjdk-amd64/bin/native2ascii to provide /usr/bin/native2ascii (native2ascii) in auto mode\n",
            "update-alternatives: using /usr/lib/jvm/java-8-openjdk-amd64/bin/schemagen to provide /usr/bin/schemagen (schemagen) in auto mode\n",
            "update-alternatives: using /usr/lib/jvm/java-8-openjdk-amd64/bin/wsgen to provide /usr/bin/wsgen (wsgen) in auto mode\n",
            "update-alternatives: using /usr/lib/jvm/java-8-openjdk-amd64/bin/wsimport to provide /usr/bin/wsimport (wsimport) in auto mode\n",
            "update-alternatives: using /usr/lib/jvm/java-8-openjdk-amd64/bin/xjc to provide /usr/bin/xjc (xjc) in auto mode\n",
            "Processing triggers for libc-bin (2.35-0ubuntu3.4) ...\n",
            "/sbin/ldconfig.real: /usr/local/lib/libtbbbind.so.3 is not a symbolic link\n",
            "\n",
            "/sbin/ldconfig.real: /usr/local/lib/libtbbbind_2_5.so.3 is not a symbolic link\n",
            "\n",
            "/sbin/ldconfig.real: /usr/local/lib/libtbbmalloc.so.2 is not a symbolic link\n",
            "\n",
            "/sbin/ldconfig.real: /usr/local/lib/libtbbmalloc_proxy.so.2 is not a symbolic link\n",
            "\n",
            "/sbin/ldconfig.real: /usr/local/lib/libtbb.so.12 is not a symbolic link\n",
            "\n",
            "/sbin/ldconfig.real: /usr/local/lib/libtbbbind_2_0.so.3 is not a symbolic link\n",
            "\n"
          ]
        }
      ]
    },
    {
      "cell_type": "code",
      "source": [
        "from google.colab import drive\n",
        "drive.mount('/content/drive')"
      ],
      "metadata": {
        "id": "anafrcL39KZZ",
        "colab": {
          "base_uri": "https://localhost:8080/"
        },
        "outputId": "485b2998-2893-4bb1-d049-6f1fa7a1bf3c"
      },
      "execution_count": 2,
      "outputs": [
        {
          "output_type": "stream",
          "name": "stdout",
          "text": [
            "Mounted at /content/drive\n"
          ]
        }
      ]
    },
    {
      "cell_type": "markdown",
      "metadata": {
        "id": "-CJ71AKe91eh"
      },
      "source": [
        "Now we authenticate a Google Drive client to download the file we will be processing in our Spark job.\n",
        "\n",
        "**Make sure to follow the interactive instructions.**"
      ]
    },
    {
      "cell_type": "code",
      "metadata": {
        "id": "5K93ABEy9Zlo",
        "colab": {
          "base_uri": "https://localhost:8080/"
        },
        "outputId": "2703be6d-f1c6-4c1a-ae4d-6f65ea2c2088"
      },
      "source": [
        "from pydrive.auth import GoogleAuth\n",
        "from pydrive.drive import GoogleDrive\n",
        "from google.colab import auth\n",
        "from oauth2client.client import GoogleCredentials\n",
        "\n",
        "# Authenticate and create the PyDrive client\n",
        "auth.authenticate_user()\n",
        "gauth = GoogleAuth()\n",
        "gauth.credentials = GoogleCredentials.get_application_default()\n",
        "drive = GoogleDrive(gauth)"
      ],
      "execution_count": 3,
      "outputs": [
        {
          "output_type": "stream",
          "name": "stderr",
          "text": [
            "WARNING:root:pydrive is deprecated and no longer maintained. We recommend that you migrate your projects to pydrive2, the maintained fork of pydrive\n"
          ]
        }
      ]
    },
    {
      "cell_type": "code",
      "metadata": {
        "id": "0orRvrc1-545"
      },
      "source": [
        "id='1dhi1F78ssqR8gE6U-AgB80ZW7V_9snX4'\n",
        "downloaded = drive.CreateFile({'id': id})\n",
        "downloaded.GetContentFile('products.csv')\n",
        "\n",
        "id='1KZBNEaIyMTcsRV817us6uLZgm-Mii8oU'\n",
        "downloaded = drive.CreateFile({'id': id})\n",
        "downloaded.GetContentFile('order_products__train.csv')"
      ],
      "execution_count": 4,
      "outputs": []
    },
    {
      "cell_type": "markdown",
      "metadata": {
        "id": "qwtlO4_m_LbQ"
      },
      "source": [
        "If you executed the cells above, you should be able to see the dataset we will need for this Colab under the \"Files\" tab on the left panel."
      ]
    },
    {
      "cell_type": "code",
      "metadata": {
        "id": "twk-K-jilWK7"
      },
      "source": [
        "import pandas as pd\n",
        "import numpy as np\n",
        "import matplotlib.pyplot as plt\n",
        "%matplotlib inline\n",
        "\n",
        "import pyspark\n",
        "from pyspark.sql import *\n",
        "from pyspark.sql.functions import *\n",
        "from pyspark import SparkContext, SparkConf"
      ],
      "execution_count": 5,
      "outputs": []
    },
    {
      "cell_type": "markdown",
      "metadata": {
        "id": "dr-8fK-1lmY0"
      },
      "source": [
        "Let's initialize the Spark context."
      ]
    },
    {
      "cell_type": "code",
      "metadata": {
        "id": "UOwtm2l7lePt"
      },
      "source": [
        "# create the session\n",
        "conf = SparkConf().set(\"spark.ui.port\", \"4050\")\n",
        "\n",
        "# create the context\n",
        "sc = pyspark.SparkContext(conf=conf)\n",
        "spark = SparkSession.builder.getOrCreate()"
      ],
      "execution_count": 6,
      "outputs": []
    },
    {
      "cell_type": "markdown",
      "metadata": {
        "id": "CRaF2A_j_nC7"
      },
      "source": [
        "### Your task"
      ]
    },
    {
      "cell_type": "markdown",
      "metadata": {
        "id": "ebLNUxP0_8x3"
      },
      "source": [
        "If you run successfully the setup stage, you are ready to work with the **3 Million Instacart Orders** dataset. In case you want to read more about it, check the [official Instacart blog post](https://tech.instacart.com/3-million-instacart-orders-open-sourced-d40d29ead6f2) about it, a concise [schema description](https://gist.github.com/jeremystan/c3b39d947d9b88b3ccff3147dbcf6c6b) of the dataset, and the [download page](https://www.instacart.com/datasets/grocery-shopping-2017).\n",
        "\n",
        "In this Colab, we will be working only with a small training dataset (~131K orders) to perform fast Frequent Pattern Mining with the FP-Growth algorithm."
      ]
    },
    {
      "cell_type": "code",
      "metadata": {
        "id": "xu-e7Ph2_ruG"
      },
      "source": [
        "products = spark.read.csv('products.csv', header=True, inferSchema=True)\n",
        "orders = spark.read.csv('order_products__train.csv', header=True, inferSchema=True)"
      ],
      "execution_count": 7,
      "outputs": []
    },
    {
      "cell_type": "code",
      "metadata": {
        "id": "hhxZZRT9syUO",
        "colab": {
          "base_uri": "https://localhost:8080/"
        },
        "collapsed": true,
        "outputId": "8d546db8-b381-4e8d-83ac-33b7847a2cbe"
      },
      "source": [
        "products.printSchema()"
      ],
      "execution_count": 8,
      "outputs": [
        {
          "output_type": "stream",
          "name": "stdout",
          "text": [
            "root\n",
            " |-- product_id: integer (nullable = true)\n",
            " |-- product_name: string (nullable = true)\n",
            " |-- aisle_id: string (nullable = true)\n",
            " |-- department_id: string (nullable = true)\n",
            "\n"
          ]
        }
      ]
    },
    {
      "cell_type": "code",
      "metadata": {
        "id": "8VeRYRz2s1pm",
        "colab": {
          "base_uri": "https://localhost:8080/"
        },
        "outputId": "1eaa9052-3051-40cc-c605-5a3abc26c1a6"
      },
      "source": [
        "orders.printSchema()"
      ],
      "execution_count": 9,
      "outputs": [
        {
          "output_type": "stream",
          "name": "stdout",
          "text": [
            "root\n",
            " |-- order_id: integer (nullable = true)\n",
            " |-- product_id: integer (nullable = true)\n",
            " |-- add_to_cart_order: integer (nullable = true)\n",
            " |-- reordered: integer (nullable = true)\n",
            "\n"
          ]
        }
      ]
    },
    {
      "cell_type": "markdown",
      "metadata": {
        "id": "h5muD_Io59CG"
      },
      "source": [
        "Use the Spark Dataframe API to join 'products' and 'orders', so that you will be able to see the product names in each transaction (and not only their ids).  Then, group by the orders by 'order_id' to obtain one row per basket (i.e., set of products purchased together by one customer)."
      ]
    },
    {
      "cell_type": "code",
      "metadata": {
        "id": "zRH4o4p7s7V6",
        "colab": {
          "base_uri": "https://localhost:8080/"
        },
        "outputId": "63ad100e-c301-4420-923d-64e1dff9587e"
      },
      "source": [
        "# YOUR CODE HERE\n",
        "\n",
        "file_path = \"order_products__train.csv\"\n",
        "orders = spark.read.csv(file_path, header=True, inferSchema=True)\n",
        "orders.show(5)\n",
        "\n",
        "file_path = \"products.csv\"\n",
        "products = spark.read.csv(file_path, header=True, inferSchema=True)\n",
        "products.show(5)\n",
        "\n",
        "# JOIN products and orders ON product_id\n",
        "joined_df = orders.join(products, on=\"product_id\")\n",
        "\n",
        "# GROUP BY order_id\n",
        "grouped_df = joined_df.groupBy(\"order_id\").agg(\n",
        "    collect_list(\"product_name\").alias(\"product_names\")\n",
        ")\n",
        "\n",
        "grouped_df.show(truncate=False)"
      ],
      "execution_count": 10,
      "outputs": [
        {
          "output_type": "stream",
          "name": "stdout",
          "text": [
            "+--------+----------+-----------------+---------+\n",
            "|order_id|product_id|add_to_cart_order|reordered|\n",
            "+--------+----------+-----------------+---------+\n",
            "|       1|     49302|                1|        1|\n",
            "|       1|     11109|                2|        1|\n",
            "|       1|     10246|                3|        0|\n",
            "|       1|     49683|                4|        0|\n",
            "|       1|     43633|                5|        1|\n",
            "+--------+----------+-----------------+---------+\n",
            "only showing top 5 rows\n",
            "\n",
            "+----------+--------------------+--------+-------------+\n",
            "|product_id|        product_name|aisle_id|department_id|\n",
            "+----------+--------------------+--------+-------------+\n",
            "|         1|Chocolate Sandwic...|      61|           19|\n",
            "|         2|    All-Seasons Salt|     104|           13|\n",
            "|         3|Robust Golden Uns...|      94|            7|\n",
            "|         4|Smart Ones Classi...|      38|            1|\n",
            "|         5|Green Chile Anyti...|       5|           13|\n",
            "+----------+--------------------+--------+-------------+\n",
            "only showing top 5 rows\n",
            "\n",
            "+--------+-----------------------------------------------------------------------------------------------------------------------------------------------------------------------------------------------------------------------------------------------------------------------------------------------------------------------------------------------------------------------------------------------------------------------------------------------------------------------------------------------------------------------------------------------------------------------------------------------------------------------------------------------------------------------------------------------------------------------------------------------------------------------------------------------------------------------------------------------------------------------------------------------------------------------------------------------------+\n",
            "|order_id|product_names                                                                                                                                                                                                                                                                                                                                                                                                                                                                                                                                                                                                                                                                                                                                                                                                                                                                                                                                        |\n",
            "+--------+-----------------------------------------------------------------------------------------------------------------------------------------------------------------------------------------------------------------------------------------------------------------------------------------------------------------------------------------------------------------------------------------------------------------------------------------------------------------------------------------------------------------------------------------------------------------------------------------------------------------------------------------------------------------------------------------------------------------------------------------------------------------------------------------------------------------------------------------------------------------------------------------------------------------------------------------------------+\n",
            "|1       |[Bulgarian Yogurt, Organic 4% Milk Fat Whole Milk Cottage Cheese, Organic Celery Hearts, Cucumber Kirby, Lightly Smoked Sardines in Olive Oil, Bag of Organic Bananas, Organic Hass Avocado, Organic Whole String Cheese]                                                                                                                                                                                                                                                                                                                                                                                                                                                                                                                                                                                                                                                                                                                            |\n",
            "|96      |[Roasted Turkey, Organic Cucumber, Organic Grape Tomatoes, Organic Pomegranate Kernels, Organic Raspberries, Organic Whole Strawberries, Organic Blueberries]                                                                                                                                                                                                                                                                                                                                                                                                                                                                                                                                                                                                                                                                                                                                                                                        |\n",
            "|112     |[Fresh Cauliflower, I Heart Baby Kale, Sea Salt Baked Potato Chips, Marinara Pasta Sauce, Organic Hass Avocado, Organic Lemon, Coconut Water Kefir, Premium Epsom Salt, Umcka Elderberry Intensive Cold + Flu Berry Flavor, Hickory Honey Barbeque Baked Potato Chips, Baked Sea Salt & Vinegar Potato Chips]                                                                                                                                                                                                                                                                                                                                                                                                                                                                                                                                                                                                                                        |\n",
            "|218     |[Natural Artisan Water, Okra, Organic Yellow Peaches, Black Plum, Citrus Mandarins Organic]                                                                                                                                                                                                                                                                                                                                                                                                                                                                                                                                                                                                                                                                                                                                                                                                                                                          |\n",
            "|456     |[Chorizo Pork, Petite Peas, Max Gel Clog Remover, Green Beans, Naturally Hickory Smoked Hometown Original Bacon, Extra Virgin Olive Oil, Mediterranean Fine Sea Salt, Pure Ground, Large Lemon]                                                                                                                                                                                                                                                                                                                                                                                                                                                                                                                                                                                                                                                                                                                                                      |\n",
            "|473     |[Organic Whole Milk with DHA Omega-3, Banana, Unsweetened Original Almond Breeze Almond Milk, Baby Wipes, Basil Pesto, Mushroom Ravioli, Spinaci e Ricotta Ravioli, Multi Grain Waffles]                                                                                                                                                                                                                                                                                                                                                                                                                                                                                                                                                                                                                                                                                                                                                             |\n",
            "|631     |[Organic Strawberries, Uncured Genoa Salami, Organic Baby Carrots, Gluten Free Organic Taco Sliders Corn Tortillas, Organic Chili Powder Blend, Organic Cilantro, Mild Salsa, Garlic, Tamari Gluten Free Soy Sauce, Broccoli Crown, Organic Red Radish, Bunch, Organic Asian Chopped Salad Kit, Dairy Free Coconut Milk Raspberry Yogurt Alternative, Dairy Free Coconut Milk Yogurt Alternative, French Vanilla Coconut Milk Creamer, Vanilla Almond Milk, Organic Italian Parsley Bunch]                                                                                                                                                                                                                                                                                                                                                                                                                                                           |\n",
            "|762     |[Organic Strawberries, Organic Romaine Lettuce, Celery Hearts, Organic Cucumber]                                                                                                                                                                                                                                                                                                                                                                                                                                                                                                                                                                                                                                                                                                                                                                                                                                                                     |\n",
            "|774     |[Ice Cream Variety Pack, Nacho Cheese Sauce, Deli-Sliced Hot Jalapeño Peppers]                                                                                                                                                                                                                                                                                                                                                                                                                                                                                                                                                                                                                                                                                                                                                                                                                                                                       |\n",
            "|844     |[Green Beans, Organic Red Radish, Bunch, Baby Spinach, Organic Shredded Carrots, Granny Smith Apples, Garlic Couscous, Cheese Pizza Snacks]                                                                                                                                                                                                                                                                                                                                                                                                                                                                                                                                                                                                                                                                                                                                                                                                          |\n",
            "|904     |[Cup Noodles Chicken Flavor, Zero Calorie Cola]                                                                                                                                                                                                                                                                                                                                                                                                                                                                                                                                                                                                                                                                                                                                                                                                                                                                                                      |\n",
            "|988     |[Natural Vanilla Ice Cream, Whipped Light Cream, Original, Complete ActionPacs Lemon Burst Dishwasher Detergent, Classic Vanilla Coffee Creamer]                                                                                                                                                                                                                                                                                                                                                                                                                                                                                                                                                                                                                                                                                                                                                                                                     |\n",
            "|1032    |[Clover Org Greek Plain, Electrolyte Enhanced Water, Organic Raspberries, Natural Spring Water, Goodness Grapeness Organic Juice Drink, Small Hass Avocado, Cheese Pizza, Water, Unsweet, Blood Orange, Unsweetened Honeydew Essence Water, Organic Living Butter Lettuce, Pineapple Apple Mint Organic Cold Pressed Juicd, Le Petite Fromage Parmesan & Basil, Organic Small Bunch Celery, Organic Large Extra Fancy Fuji Apple, Organic Bartlett Pear, Apple Honeycrisp Organic, Xylitol Sweetener, Amaaazing Blueberry Apple Juice Blend Drink, Water New Zealand, New Zealand Artesian Water, Wild Berry Sparkling Energy Water, Dolmas, Taco Seasoning, Original Long Grain & Wild Rice Mix, Garlic & Herb Rice Pilaf Mix]                                                                                                                                                                                                                      |\n",
            "|1077    |[Bag of Organic Bananas, Celery Sticks, Sparkling Water, Organic Strawberries]                                                                                                                                                                                                                                                                                                                                                                                                                                                                                                                                                                                                                                                                                                                                                                                                                                                                       |\n",
            "|1119    |[Boneless Skinless Chicken Breast, Large Lemon, Organic Grade A Free Range Large Brown Eggs, Fresh Cauliflower, Broccoli Crown, Shallot]                                                                                                                                                                                                                                                                                                                                                                                                                                                                                                                                                                                                                                                                                                                                                                                                             |\n",
            "|1139    |[Banana, Organic Strawberries, Red Vine Tomato, Organic Bakery Hamburger Buns Wheat - 8 CT, Guacamole, Picnic Potato Salad, Cinnamon Rolls with Icing, Flaky Biscuits, Buttermilk Biscuits]                                                                                                                                                                                                                                                                                                                                                                                                                                                                                                                                                                                                                                                                                                                                                          |\n",
            "|1143    |[Natural Premium Coconut Water, Calming Lavender Body Wash, Unscented Long Lasting Stick Deodorant, Organic Raspberries, Organic Blueberries, Organic Hass Avocado, Organic Butterhead (Boston, Butter, Bibb) Lettuce, Baby Arugula, Large Lemon, Organic Garlic, Organic Red Radish, Bunch, Rustic Baguette, Organic Brussel Sprouts, Organic Capellini Whole Wheat Pasta, Basil Pesto, Spring Water, Water]                                                                                                                                                                                                                                                                                                                                                                                                                                                                                                                                        |\n",
            "|1145    |[Banana, Original French Toast Sticks, Healthy Multi Grain Bread, Harvest Best in 100% Fruit Juice Mandarin Oranges, Little Bites Blueberry Muffin Pouches, Harvest Cheddar Multigrain Chips, Mexican Casserole Bowl, Natural Uncured Turkey Hot Dog, Original Red Raspberry Yogurt, Goldfish Parmesan Baked Snack Crackers, Multi Grain Cheerios Cereal, Roma Tomato, Shredded Mild Cheddar Cheese, Light Mozzarella String Cheese, Eggs, Cheese & Turkey Sausage Breakfast Burrito, Everything Bagel, Danimals Strawberry Explosion & Strikin' Strawberry Kiwi Smoothies, Spaghetti Pasta, Signature Recipes Vodka Sauce Pasta Sauce, Spinach Pizza, Hash Brown Potato Patties, Nacho Cheese & Bean Snacks, 2% Low Fat Cottage Cheese, Original Nooks & Crannies English Muffins, Milano Milk Chocolate Cookies, Strawberries, Strawberry Frozen Greek Yogurt Bars, Instant Whole Grain Brown Rice, Stir Fry Seasoning Mix, Classic Stir-fry Sauce]|\n",
            "|1275    |[Boneless Skinless Chicken Breast, Organic Garnet Sweet Potato (Yam), Small Hass Avocado, Extra Virgin Olive Oil, Balsamic Vinegar Of Modena]                                                                                                                                                                                                                                                                                                                                                                                                                                                                                                                                                                                                                                                                                                                                                                                                        |\n",
            "|1280    |[Lactose Free Half & Half, Organic Half & Half, Vanilla Soy Milk, Organic Whole Milk, French Vanilla Creamer]                                                                                                                                                                                                                                                                                                                                                                                                                                                                                                                                                                                                                                                                                                                                                                                                                                        |\n",
            "+--------+-----------------------------------------------------------------------------------------------------------------------------------------------------------------------------------------------------------------------------------------------------------------------------------------------------------------------------------------------------------------------------------------------------------------------------------------------------------------------------------------------------------------------------------------------------------------------------------------------------------------------------------------------------------------------------------------------------------------------------------------------------------------------------------------------------------------------------------------------------------------------------------------------------------------------------------------------------+\n",
            "only showing top 20 rows\n",
            "\n"
          ]
        }
      ]
    },
    {
      "cell_type": "markdown",
      "metadata": {
        "id": "EfHoTLAg6qnM"
      },
      "source": [
        "In this Colab we will explore [MLlib](https://spark.apache.org/mllib/), Apache Spark's scalable machine learning library. Specifically, you can use its implementation of the [FP-Growth](https://spark.apache.org/docs/latest/ml-frequent-pattern-mining.html#fp-growth) algorithm to perform efficiently Frequent Pattern Mining in Spark.\n",
        "Use the Python example in the documentation, and train a model with\n",
        "\n",
        "```minSupport=0.01``` and ```minConfidence=0.5```\n",
        "\n"
      ]
    },
    {
      "cell_type": "code",
      "metadata": {
        "id": "boWgxXNns089",
        "colab": {
          "base_uri": "https://localhost:8080/"
        },
        "outputId": "04b3bb9f-939f-4710-d44b-81a93b332414"
      },
      "source": [
        "# YOUR CODE HERE\n",
        "from pyspark.ml.fpm import FPGrowth\n",
        "\n",
        "fpGrowth = FPGrowth(itemsCol=\"product_names\", minSupport=0.01, minConfidence=0.5)\n",
        "model = fpGrowth.fit(grouped_df)\n",
        "\n",
        "# Display frequent itemsets.\n",
        "model.freqItemsets.show(10)\n",
        "\n",
        "# Display generated association rules.\n",
        "model.associationRules.show()\n",
        "\n",
        "# transform examines the input items against all the association rules and summarize the\n",
        "# consequents as prediction\n",
        "model.transform(grouped_df).show(10)"
      ],
      "execution_count": 12,
      "outputs": [
        {
          "output_type": "stream",
          "name": "stdout",
          "text": [
            "+--------------------+----+\n",
            "|               items|freq|\n",
            "+--------------------+----+\n",
            "|      [Green Onions]|1445|\n",
            "|   [Red Raspberries]|1493|\n",
            "|    [Organic Banana]|2332|\n",
            "|  [Jalapeno Peppers]|1899|\n",
            "|[Organic Large Ex...|2891|\n",
            "|[Organic Whole St...|1993|\n",
            "|[Organic Peeled W...|2460|\n",
            "|             [Limes]|6033|\n",
            "|[Limes, Large Lemon]|1595|\n",
            "|     [Limes, Banana]|1331|\n",
            "+--------------------+----+\n",
            "only showing top 10 rows\n",
            "\n",
            "+----------+----------+----------+----+-------+\n",
            "|antecedent|consequent|confidence|lift|support|\n",
            "+----------+----------+----------+----+-------+\n",
            "+----------+----------+----------+----+-------+\n",
            "\n",
            "+--------+--------------------+----------+\n",
            "|order_id|       product_names|prediction|\n",
            "+--------+--------------------+----------+\n",
            "|       1|[Bulgarian Yogurt...|        []|\n",
            "|      96|[Roasted Turkey, ...|        []|\n",
            "|     112|[Fresh Cauliflowe...|        []|\n",
            "|     218|[Natural Artisan ...|        []|\n",
            "|     456|[Chorizo Pork, Pe...|        []|\n",
            "|     473|[Organic Whole Mi...|        []|\n",
            "|     631|[Organic Strawber...|        []|\n",
            "|     762|[Organic Strawber...|        []|\n",
            "|     774|[Ice Cream Variet...|        []|\n",
            "|     844|[Green Beans, Org...|        []|\n",
            "+--------+--------------------+----------+\n",
            "only showing top 10 rows\n",
            "\n"
          ]
        }
      ]
    },
    {
      "cell_type": "markdown",
      "metadata": {
        "id": "6kpTVdfD8UiO"
      },
      "source": [
        "Compute how many frequent itemsets and association rules were generated by running FP-growth.\n"
      ]
    },
    {
      "cell_type": "code",
      "metadata": {
        "id": "6KYgQ_URunvA",
        "colab": {
          "base_uri": "https://localhost:8080/"
        },
        "outputId": "67f24586-33fe-45fa-c31d-94493c2f494c"
      },
      "source": [
        "# YOUR CODE HERE\n",
        "\n",
        "# Compute how many frequent itemsets\n",
        "num_freq_itemsets = model.freqItemsets.count()\n",
        "print(f\"Number of frequent itemsets: {num_freq_itemsets}\")\n",
        "\n",
        "# Compute how many association rules\n",
        "num_association_rules = model.associationRules.count()\n",
        "print(f\"Number of association rules: {num_association_rules}\")\n"
      ],
      "execution_count": 13,
      "outputs": [
        {
          "output_type": "stream",
          "name": "stdout",
          "text": [
            "Number of frequent itemsets: 120\n",
            "Number of association rules: 0\n"
          ]
        }
      ]
    },
    {
      "cell_type": "markdown",
      "metadata": {
        "id": "qT8Lwm1VAPoN"
      },
      "source": [
        "Now retrain the FP-growth model changing only\n",
        "```minsupport=0.001```\n",
        "and compute how many frequent itemsets and association rules were generated.\n"
      ]
    },
    {
      "cell_type": "code",
      "metadata": {
        "id": "F4LTM9beApYn",
        "colab": {
          "base_uri": "https://localhost:8080/"
        },
        "outputId": "bd6fb5c5-05db-41aa-a8c7-58b23329544c"
      },
      "source": [
        "# YOUR CODE HERE\n",
        "\n",
        "fpGrowth = FPGrowth(itemsCol=\"product_names\", minSupport=0.001, minConfidence=0.5)\n",
        "model = fpGrowth.fit(grouped_df)\n",
        "\n",
        "# Compute how many frequent itemsets\n",
        "num_freq_itemsets = model.freqItemsets.count()\n",
        "print(f\"Number of frequent itemsets: {num_freq_itemsets}\")\n",
        "\n",
        "# Compute how many association rules\n",
        "num_association_rules = model.associationRules.count()\n",
        "print(f\"Number of association rules: {num_association_rules}\")\n",
        "\n",
        "# show frequent itemsets and association rules\n",
        "model.freqItemsets.show(10)\n",
        "model.associationRules.show()"
      ],
      "execution_count": 14,
      "outputs": [
        {
          "output_type": "stream",
          "name": "stdout",
          "text": [
            "Number of frequent itemsets: 4444\n",
            "Number of association rules: 11\n",
            "+--------------------+----+\n",
            "|               items|freq|\n",
            "+--------------------+----+\n",
            "|[White Cheddar Po...| 370|\n",
            "|[Organic YoKids V...| 259|\n",
            "|[Total 0% Nonfat ...| 993|\n",
            "|[Total 0% Nonfat ...| 137|\n",
            "|[Total 0% Nonfat ...| 157|\n",
            "|[Total 0% Nonfat ...| 143|\n",
            "|[Total 0% Nonfat ...| 258|\n",
            "|[Organic Large Gr...| 730|\n",
            "|[Organic Large Gr...| 185|\n",
            "|[Organic Large Gr...| 263|\n",
            "+--------------------+----+\n",
            "only showing top 10 rows\n",
            "\n",
            "+--------------------+--------------------+------------------+------------------+--------------------+\n",
            "|          antecedent|          consequent|        confidence|              lift|             support|\n",
            "+--------------------+--------------------+------------------+------------------+--------------------+\n",
            "|[Organic Whole St...|[Bag of Organic B...|0.5314685314685315| 4.504745125675359|0.001158457118033...|\n",
            "|[Organic Broccoli...|[Bag of Organic B...|0.5048231511254019| 4.278897986822536|0.001196564260073623|\n",
            "|[Organic Navel Or...|[Bag of Organic B...|0.5412186379928315| 4.587387356098284|0.001150835689624...|\n",
            "|[Organic Kiwi, Or...|[Bag of Organic B...|0.5459770114942529| 4.627719489738336|0.001448071397541327|\n",
            "|[Organic D'Anjou ...|[Bag of Organic B...|0.5170454545454546|4.3824946411792345|0.001387099970276...|\n",
            "|[Organic Raspberr...|[Bag of Organic B...| 0.521099116781158| 4.416853618458589|0.004046978484707604|\n",
            "|[Organic Navel Or...|[Bag of Organic B...|0.5283018867924528| 4.477904539027839|0.001493799967990...|\n",
            "|[Organic Raspberr...|[Bag of Organic B...|0.5984251968503937| 5.072272070642333|0.001737685677049...|\n",
            "|[Organic Unsweete...|[Bag of Organic B...|0.5141065830721003| 4.357584667849303|0.001249914258930...|\n",
            "|[Organic Cucumber...|[Bag of Organic B...|          0.546875| 4.635330870478036|0.001066999977135...|\n",
            "|[Yellow Onions, S...|            [Banana]|0.5357142857142857|3.7536332219526702|0.001143214261216...|\n",
            "+--------------------+--------------------+------------------+------------------+--------------------+\n",
            "\n"
          ]
        }
      ]
    }
  ]
}