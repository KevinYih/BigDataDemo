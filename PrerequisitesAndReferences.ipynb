{
  "nbformat": 4,
  "nbformat_minor": 0,
  "metadata": {
    "colab": {
      "provenance": [],
      "authorship_tag": "ABX9TyOgHZcTovdHTrE9Yv2Y9N+y",
      "include_colab_link": true
    },
    "kernelspec": {
      "name": "python3",
      "display_name": "Python 3"
    },
    "language_info": {
      "name": "python"
    }
  },
  "cells": [
    {
      "cell_type": "markdown",
      "metadata": {
        "id": "view-in-github",
        "colab_type": "text"
      },
      "source": [
        "<a href=\"https://colab.research.google.com/github/KevinYih/BigDataDemo/blob/main/PrerequisitesAndReferences.ipynb\" target=\"_parent\"><img src=\"https://colab.research.google.com/assets/colab-badge.svg\" alt=\"Open In Colab\"/></a>"
      ]
    },
    {
      "cell_type": "code",
      "execution_count": null,
      "metadata": {
        "colab": {
          "base_uri": "https://localhost:8080/"
        },
        "id": "RoNOOiTNUAOk",
        "outputId": "89f53e31-e6ee-4b08-d1aa-918a14c3f220"
      },
      "outputs": [
        {
          "output_type": "execute_result",
          "data": {
            "text/plain": [
              "9"
            ]
          },
          "metadata": {},
          "execution_count": 3
        }
      ],
      "source": [
        "def square(x):\n",
        "  return x ** 2\n",
        "\n",
        "result = square(3)\n",
        "result"
      ]
    },
    {
      "cell_type": "code",
      "source": [
        "import math\n",
        "x = 25\n",
        "square_root = math.sqrt(x)\n",
        "print(\"Square root of\", x, \"is\", square_root)"
      ],
      "metadata": {
        "colab": {
          "base_uri": "https://localhost:8080/"
        },
        "id": "v-cvhI00UTTl",
        "outputId": "b5651463-4d60-4c78-d467-492192c33fbd"
      },
      "execution_count": null,
      "outputs": [
        {
          "output_type": "stream",
          "name": "stdout",
          "text": [
            "Square root of 25 is 5.0\n"
          ]
        }
      ]
    },
    {
      "cell_type": "code",
      "source": [
        "import pandas as pd\n",
        "import numpy as np"
      ],
      "metadata": {
        "id": "Wf9GPu1dYLHi"
      },
      "execution_count": 2,
      "outputs": []
    },
    {
      "cell_type": "code",
      "source": [
        "# Create oecd_bli dataframe\n",
        "oecd_bli = pd.DataFrame({\n",
        "    'Country': ['USA', 'Canada', 'Mexico'],\n",
        "    'INDICATOR': ['SW_LIFS', 'SW_LIFS', 'SW_LIFS'],\n",
        "    'VALUE': [75, 80, 70]\n",
        "})\n",
        "\n",
        "# Create GPD dataframe\n",
        "GPD = pd.DataFrame({\n",
        "    'Country': ['USA', 'Canada', 'UK'],\n",
        "    '2015': [60000, 50000, 55000]\n",
        "})"
      ],
      "metadata": {
        "id": "FG-M6vivX66A"
      },
      "execution_count": 3,
      "outputs": []
    },
    {
      "cell_type": "code",
      "source": [
        "merged_df = pd.merge(oecd_bli, GPD, on=\"Country\", how=\"left\")\n",
        "\n",
        "print(merged_df)"
      ],
      "metadata": {
        "colab": {
          "base_uri": "https://localhost:8080/"
        },
        "id": "W8xWQJWaYcSN",
        "outputId": "b2439941-63b6-4339-ca29-6af117c3f568"
      },
      "execution_count": 5,
      "outputs": [
        {
          "output_type": "stream",
          "name": "stdout",
          "text": [
            "  Country INDICATOR  VALUE     2015\n",
            "0     USA   SW_LIFS     75  60000.0\n",
            "1  Canada   SW_LIFS     80  50000.0\n",
            "2  Mexico   SW_LIFS     70      NaN\n"
          ]
        }
      ]
    },
    {
      "cell_type": "code",
      "source": [
        "import numpy as np\n",
        "import pandas as pd\n",
        "from sklearn.linear_model import LinearRegression\n",
        "\n",
        "# 示例数据\n",
        "data = {\n",
        "    '2015': [60000, 50000, 55000, 65000, 70000],\n",
        "    'Value': [75, 80, 70, 85, 90]\n",
        "}\n",
        "country_stats = pd.DataFrame(data)\n",
        "\n",
        "# 特征和目标变量\n",
        "X = country_stats[['2015']]\n",
        "y = country_stats['Value']\n",
        "\n",
        "# 创建和训练模型\n",
        "model = LinearRegression()\n",
        "model.fit(X, y)\n",
        "\n",
        "# 计算 R² 得分\n",
        "r2_score = model.score(X, y)\n",
        "\n",
        "print(f\"R²得分: {r2_score}\")"
      ],
      "metadata": {
        "colab": {
          "base_uri": "https://localhost:8080/"
        },
        "id": "tYakZxvfz1Ws",
        "outputId": "872c34ec-d2c5-4eab-9ae1-f8bb45015654"
      },
      "execution_count": 6,
      "outputs": [
        {
          "output_type": "stream",
          "name": "stdout",
          "text": [
            "R²得分: 0.49\n"
          ]
        }
      ]
    }
  ]
}