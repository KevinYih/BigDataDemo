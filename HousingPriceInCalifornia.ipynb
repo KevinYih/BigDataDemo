{
  "nbformat": 4,
  "nbformat_minor": 0,
  "metadata": {
    "colab": {
      "provenance": [],
      "authorship_tag": "ABX9TyNuTHWap1S/CskHgDacEF/a",
      "include_colab_link": true
    },
    "kernelspec": {
      "name": "python3",
      "display_name": "Python 3"
    },
    "language_info": {
      "name": "python"
    }
  },
  "cells": [
    {
      "cell_type": "markdown",
      "metadata": {
        "id": "view-in-github",
        "colab_type": "text"
      },
      "source": [
        "<a href=\"https://colab.research.google.com/github/KevinYih/BigDataDemo/blob/main/HousingPriceInCalifornia.ipynb\" target=\"_parent\"><img src=\"https://colab.research.google.com/assets/colab-badge.svg\" alt=\"Open In Colab\"/></a>"
      ]
    },
    {
      "cell_type": "markdown",
      "source": [
        "In this example, we’ll use the California Housing Prices dataset from the StatLib repository (see the enclosed figure).\n",
        "This dataset is based on data from the1990 California census plus\n",
        "an additional categorical attribute and excluding a few features."
      ],
      "metadata": {
        "id": "vCYwSniivood"
      }
    },
    {
      "cell_type": "code",
      "source": [
        "import tarfile\n",
        "import urllib.request\n",
        "import pandas as pd\n",
        "HOUSING_URL = 'https://raw.githubusercontent.com/ageron/handson-ml2/master/datasets/housing/housing.tgz'\n",
        "\n",
        "# /content is a special directory where files uploaded to the Colab are stored.\n",
        "tgz_path = \"/content/housing.tgz\"\n",
        "\n",
        "# it download the from from HOUSING_URL in tgz_path\n",
        "urllib.request.urlretrieve(HOUSING_URL, tgz_path)\n",
        "\n",
        "housing_tgz = tarfile.open(tgz_path)\n",
        "housing_tgz.extractall()\n",
        "housing_tgz.close()\n",
        "\n",
        "# Load the housing data into a pandas Dataframe\n",
        "csv_path = \"/content/housing.csv\"\n",
        "housing = pd.read_csv(csv_path)"
      ],
      "metadata": {
        "id": "zHY1b5wIvigk"
      },
      "execution_count": 3,
      "outputs": []
    }
  ]
}